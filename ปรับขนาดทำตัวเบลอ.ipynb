{
 "cells": [
  {
   "cell_type": "code",
   "execution_count": 1,
   "id": "de14b360",
   "metadata": {},
   "outputs": [],
   "source": [
    "import numpy as np\n",
    "import time\n",
    "import matplotlib.pyplot as plt\n",
    "from PIL import Image, ImageOps\n",
    "import cv2\n",
    "import os\n",
    "import random\n",
    "import pandas as pd"
   ]
  },
  {
   "cell_type": "code",
   "execution_count": 58,
   "id": "c1384aa5",
   "metadata": {
    "scrolled": true
   },
   "outputs": [],
   "source": [
    "inPath = \"C:/Users/HOME/Desktop/TwoClasses/database/Test\"\n",
    "\n",
    "outPath1 = \"C:/Users/HOME/Desktop/TwoClasses/database/Train\"\n",
    "outPath2 = \"C:/Users/HOME/Desktop/TwoClasses/database/Validation/OneChar/\"\n",
    "outPath3 = \"C:/Users/HOME/Desktop/TwoClasses/database/Test/\"\n",
    "\n",
    "count = 1\n",
    "for a in os.listdir(inPath):\n",
    "    in_path = inPath + \"/\" + str(a)\n",
    "    \n",
    "    image = cv2.imread(in_path)\n",
    "\n",
    "    dim = (28, 28)\n",
    "    \n",
    "    image = cv2.resize(image, dim, interpolation = cv2.INTER_AREA)     # resize image\n",
    "   \n",
    "    \n",
    "    \n",
    "    image = cv2.GaussianBlur(image, (5,5), 3)\n",
    "    #img4 = cv2.blur(image,(5,5))\n",
    "    \n",
    "    \n",
    "    \n",
    "    cv2.imwrite(in_path, image)\n",
    "    \n",
    "    if count%500 == 0:\n",
    "        print(count)"
   ]
  },
  {
   "cell_type": "code",
   "execution_count": null,
   "id": "cee409aa",
   "metadata": {},
   "outputs": [],
   "source": []
  },
  {
   "cell_type": "code",
   "execution_count": null,
   "id": "56899f52",
   "metadata": {},
   "outputs": [],
   "source": []
  }
 ],
 "metadata": {
  "kernelspec": {
   "display_name": "Python 3",
   "language": "python",
   "name": "python3"
  },
  "language_info": {
   "codemirror_mode": {
    "name": "ipython",
    "version": 3
   },
   "file_extension": ".py",
   "mimetype": "text/x-python",
   "name": "python",
   "nbconvert_exporter": "python",
   "pygments_lexer": "ipython3",
   "version": "3.6.13"
  }
 },
 "nbformat": 4,
 "nbformat_minor": 5
}
