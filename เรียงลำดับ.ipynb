{
 "cells": [
  {
   "cell_type": "code",
   "execution_count": 1,
   "id": "6a698de8",
   "metadata": {},
   "outputs": [
    {
     "name": "stderr",
     "output_type": "stream",
     "text": [
      "C:\\Users\\HOME\\anaconda3\\envs\\AIML\\lib\\site-packages\\tensorflow\\python\\framework\\dtypes.py:516: FutureWarning: Passing (type, 1) or '1type' as a synonym of type is deprecated; in a future version of numpy, it will be understood as (type, (1,)) / '(1,)type'.\n",
      "  _np_qint8 = np.dtype([(\"qint8\", np.int8, 1)])\n",
      "C:\\Users\\HOME\\anaconda3\\envs\\AIML\\lib\\site-packages\\tensorflow\\python\\framework\\dtypes.py:517: FutureWarning: Passing (type, 1) or '1type' as a synonym of type is deprecated; in a future version of numpy, it will be understood as (type, (1,)) / '(1,)type'.\n",
      "  _np_quint8 = np.dtype([(\"quint8\", np.uint8, 1)])\n",
      "C:\\Users\\HOME\\anaconda3\\envs\\AIML\\lib\\site-packages\\tensorflow\\python\\framework\\dtypes.py:518: FutureWarning: Passing (type, 1) or '1type' as a synonym of type is deprecated; in a future version of numpy, it will be understood as (type, (1,)) / '(1,)type'.\n",
      "  _np_qint16 = np.dtype([(\"qint16\", np.int16, 1)])\n",
      "C:\\Users\\HOME\\anaconda3\\envs\\AIML\\lib\\site-packages\\tensorflow\\python\\framework\\dtypes.py:519: FutureWarning: Passing (type, 1) or '1type' as a synonym of type is deprecated; in a future version of numpy, it will be understood as (type, (1,)) / '(1,)type'.\n",
      "  _np_quint16 = np.dtype([(\"quint16\", np.uint16, 1)])\n",
      "C:\\Users\\HOME\\anaconda3\\envs\\AIML\\lib\\site-packages\\tensorflow\\python\\framework\\dtypes.py:520: FutureWarning: Passing (type, 1) or '1type' as a synonym of type is deprecated; in a future version of numpy, it will be understood as (type, (1,)) / '(1,)type'.\n",
      "  _np_qint32 = np.dtype([(\"qint32\", np.int32, 1)])\n",
      "C:\\Users\\HOME\\anaconda3\\envs\\AIML\\lib\\site-packages\\tensorflow\\python\\framework\\dtypes.py:525: FutureWarning: Passing (type, 1) or '1type' as a synonym of type is deprecated; in a future version of numpy, it will be understood as (type, (1,)) / '(1,)type'.\n",
      "  np_resource = np.dtype([(\"resource\", np.ubyte, 1)])\n",
      "C:\\Users\\HOME\\anaconda3\\envs\\AIML\\lib\\site-packages\\tensorboard\\compat\\tensorflow_stub\\dtypes.py:541: FutureWarning: Passing (type, 1) or '1type' as a synonym of type is deprecated; in a future version of numpy, it will be understood as (type, (1,)) / '(1,)type'.\n",
      "  _np_qint8 = np.dtype([(\"qint8\", np.int8, 1)])\n",
      "C:\\Users\\HOME\\anaconda3\\envs\\AIML\\lib\\site-packages\\tensorboard\\compat\\tensorflow_stub\\dtypes.py:542: FutureWarning: Passing (type, 1) or '1type' as a synonym of type is deprecated; in a future version of numpy, it will be understood as (type, (1,)) / '(1,)type'.\n",
      "  _np_quint8 = np.dtype([(\"quint8\", np.uint8, 1)])\n",
      "C:\\Users\\HOME\\anaconda3\\envs\\AIML\\lib\\site-packages\\tensorboard\\compat\\tensorflow_stub\\dtypes.py:543: FutureWarning: Passing (type, 1) or '1type' as a synonym of type is deprecated; in a future version of numpy, it will be understood as (type, (1,)) / '(1,)type'.\n",
      "  _np_qint16 = np.dtype([(\"qint16\", np.int16, 1)])\n",
      "C:\\Users\\HOME\\anaconda3\\envs\\AIML\\lib\\site-packages\\tensorboard\\compat\\tensorflow_stub\\dtypes.py:544: FutureWarning: Passing (type, 1) or '1type' as a synonym of type is deprecated; in a future version of numpy, it will be understood as (type, (1,)) / '(1,)type'.\n",
      "  _np_quint16 = np.dtype([(\"quint16\", np.uint16, 1)])\n",
      "C:\\Users\\HOME\\anaconda3\\envs\\AIML\\lib\\site-packages\\tensorboard\\compat\\tensorflow_stub\\dtypes.py:545: FutureWarning: Passing (type, 1) or '1type' as a synonym of type is deprecated; in a future version of numpy, it will be understood as (type, (1,)) / '(1,)type'.\n",
      "  _np_qint32 = np.dtype([(\"qint32\", np.int32, 1)])\n",
      "C:\\Users\\HOME\\anaconda3\\envs\\AIML\\lib\\site-packages\\tensorboard\\compat\\tensorflow_stub\\dtypes.py:550: FutureWarning: Passing (type, 1) or '1type' as a synonym of type is deprecated; in a future version of numpy, it will be understood as (type, (1,)) / '(1,)type'.\n",
      "  np_resource = np.dtype([(\"resource\", np.ubyte, 1)])\n"
     ]
    }
   ],
   "source": [
    "from tensorflow.keras.preprocessing.image import ImageDataGenerator\n",
    "from tensorflow.keras.preprocessing import image\n",
    "from tensorflow.keras.optimizers import RMSprop\n",
    "from tensorflow.keras.models import load_model\n",
    "import matplotlib.pyplot as plt\n",
    "import tensorflow as tf\n",
    "import numpy as np\n",
    "import cv2\n",
    "import os"
   ]
  },
  {
   "cell_type": "code",
   "execution_count": 6,
   "id": "64553b2e",
   "metadata": {},
   "outputs": [],
   "source": [
    "model = load_model(\"model1_2classes_7Jan2022.h5\")\n",
    "\n",
    "#model2 = load_model(\"model_77classes_20Jan2022.h5\")\n",
    "#model2 = load_model(\"model1_80classes_07Jan2022.h5\")\n",
    "model2 = load_model(\"model_78classes_2Feb2022.h5\")\n",
    "\n"
   ]
  },
  {
   "cell_type": "code",
   "execution_count": 11,
   "id": "9380ad41",
   "metadata": {},
   "outputs": [],
   "source": [
    "model = load_model(\"model_2classes_2Feb2022.h5\")\n",
    "model2 = load_model(\"model_78classes_2Feb2022.h5\")\n"
   ]
  },
  {
   "cell_type": "code",
   "execution_count": 12,
   "id": "c767edc4",
   "metadata": {},
   "outputs": [],
   "source": [
    "from PIL import Image, ImageOps\n",
    "IMG_SIZE = 28\n",
    "name_of_char = ['single 1','connect 2']\n",
    "\n",
    "def add_border(input_image, color):\n",
    "    img = input_image\n",
    "    x,y,_ = img.shape\n",
    "    #print(x,y)\n",
    "    if x>y :\n",
    "        border_x = int(x/15)\n",
    "        border_y = int(((x+2*border_x)-y)/2)\n",
    "    elif y>x :\n",
    "        border_y = int(y/15)\n",
    "        border_x = int(((y+2*border_y)-x)/2)\n",
    "    else:\n",
    "        border_x = int(x/15)\n",
    "        border_y = int(y/15)\n",
    "    \n",
    "    #print(x,y,border_x,border_y)\n",
    "    img = Image.fromarray(img)\n",
    "    border = (border_y, border_x, border_y, border_x)\n",
    "\n",
    "    if isinstance(border, int) or isinstance(border, tuple):\n",
    "        bimg = ImageOps.expand(img, border=border, fill=color)\n",
    "        bimg = bimg.resize((IMG_SIZE, IMG_SIZE))\n",
    "    else:\n",
    "        raise runtimeerror('border is not an integer or tuple!')\n",
    "    return(bimg)\n"
   ]
  },
  {
   "cell_type": "code",
   "execution_count": 13,
   "id": "b2ce7c16",
   "metadata": {},
   "outputs": [],
   "source": [
    "#222222222222222\n",
    "from PIL import Image, ImageOps\n",
    "IMG_SIZE = 28\n",
    "#name_of_char = ['single 1','connect 2']\n",
    "\n",
    "def add_border(input_image, color):\n",
    "    img = input_image\n",
    "    y,x = img.size\n",
    "    #print(x,y)\n",
    "    if x>y :\n",
    "        border_x = int(x/15)\n",
    "        border_y = int(((x+2*border_x)-y)/2)\n",
    "    elif y>x :\n",
    "        border_y = int(y/15)\n",
    "        border_x = int(((y+2*border_y)-x)/2)\n",
    "    else:\n",
    "        border_x = int(x/15)\n",
    "        border_y = int(y/15)\n",
    "    \n",
    "    #print(x,y,border_x,border_y)\n",
    "    #img = Image.fromarray(img)\n",
    "    border = (border_y, border_x, border_y, border_x)\n",
    "\n",
    "    if isinstance(border, int) or isinstance(border, tuple):\n",
    "        bimg = ImageOps.expand(img, border=border, fill=color)\n",
    "        bimg = bimg.resize((IMG_SIZE, IMG_SIZE))\n",
    "    else:\n",
    "        raise runtimeerror('border is not an integer or tuple!')\n",
    "    return(bimg)\n"
   ]
  },
  {
   "cell_type": "code",
   "execution_count": 20,
   "id": "50975540",
   "metadata": {},
   "outputs": [],
   "source": [
    "name_of_char = ['ก','ข','ฃ','ค','ต','ฆ','ง','จ',\n",
    "                'ฉ','ช','ซ','ฌ','ญ','ฎ','ฏ','ฐ',\n",
    "                'ฑ','ฒ','ณ','ด','ต','ถ','ท','ธ',\n",
    "                'น','บ','ป','ผ','ฝ','พ','ฟ','ภ',\n",
    "                'ม','ย','ร','ล','ว','ศ','ษ','ส',\n",
    "                'ห','ฬ','อ','ฮ','ั','็','า',\n",
    "                'ิ','ี','ึ','ื','ุ', 'ู','เ','แ',\n",
    "                'ใ','ไ','โ','ฤ','ฦ','่','้',\n",
    "                '๊','๋','์','ๆ','ฯ','๐','๑',\n",
    "                '๒','๓','๔','๕','๖','๗','๘','๙','ฐ2']  #77\n",
    "\n",
    "#model2 = load_model(\"model_77classes_20Jan2022.h5\")"
   ]
  },
  {
   "cell_type": "code",
   "execution_count": 37,
   "id": "a309fc80",
   "metadata": {},
   "outputs": [],
   "source": [
    "name_of_char = ['ก','ข','ฃ','ค','ต','ฆ','ง','จ',\n",
    "                'ฉ','ช','ซ','ฌ','ญ','ฎ','ฏ','ฐ',\n",
    "                'ฑ','ฒ','ณ','ด','ต','ถ','ท','ธ',\n",
    "                'น','บ','ป','ผ','ฝ','พ','ฟ','ภ',\n",
    "                'ม','ย','ร','ล','ว','ศ','ษ','ส',\n",
    "                'ห','ฬ','อ','ฮ','ั','ั','อ็','า',\n",
    "                'อิ','อี','อึ','อื','ุ','ู','เ','แ',\n",
    "                'ใ','ไ','โ','ฤ','ฦ','ๅ','อ่','้',\n",
    "                'อ๊','อ๋','อ์','ๆ','ฯ','ำ','๐','๑',\n",
    "                '๒','๓','๔','๕','๖','๗','๘','๙']\n",
    "\n",
    "#model2 = load_model(\"model1_80classes_07Jan2022.h5\")"
   ]
  },
  {
   "cell_type": "code",
   "execution_count": 15,
   "id": "4d61379d",
   "metadata": {},
   "outputs": [],
   "source": [
    "\n",
    "\n",
    "allAns =[]\n",
    "def pred(x,y,w,h,img_in):\n",
    "    cropped_image = img_in.crop((x,y,x+w,y+h))\n",
    "    \n",
    "    #cropped_image = cropped_image.resize((IMG_SIZE, IMG_SIZE))\n",
    "    \n",
    "    cropped_image = add_border(cropped_image, color=\"white\") \n",
    "    \n",
    "    #plt.imshow(cropped_image)\n",
    "    #plt.show()\n",
    "        \n",
    "    #X = image.img_to_array(img)\n",
    "    img = cropped_image\n",
    "    X = image.img_to_array(img)\n",
    "    #X = np.array(img)\n",
    "    X = np.expand_dims(X/255,axis = 0)\n",
    "    images = np.vstack([X])\n",
    "    \n",
    "    val = np.argmax(model2.predict(images))\n",
    "    ans1 = name_of_char[val]\n",
    "    #ans1 = str(val)\n",
    "    #print(ans1)\n",
    "    return(ans1)\n",
    "    \n",
    "    #ans = str(val)\n",
    "    \n",
    "\n",
    "        \n",
    "def sliding_window (x, y, w, h, img_in):\n",
    "    connect1_1 = [[],[]]\n",
    "    for i in range(3,17):\n",
    "        w1 = int(w*(15+i)/45)\n",
    "        wN1 = int(w*(2/3))\n",
    "        wN2 = int(w*(1/3))\n",
    "        x1, y1, w1, h1 = x, y, w1, h \n",
    "        x2, y2, w2, h2 = x+w1, y,w-w1 ,h\n",
    "\n",
    "        connect1_1[0].append(pred(x1, y1, w1, h1, img_in))\n",
    "        sec_position = pred(x2, y2, w2, h2, img_in)\n",
    "        if sec_position=='ๅ':\n",
    "            connect1_1[1].append('า')\n",
    "        else:\n",
    "            connect1_1[1].append(sec_position)\n",
    "        #connect1_1[1].append(pred(x2, y2, w2, h2, img_in))\n",
    "        cv2.rectangle(image1,(x1,y1), (x1+w1,y1+h1), (10,15,15), 1)\n",
    "    #print(np.array(connect1_1))\n",
    "\n",
    "    Ans = \"\"\n",
    "    for j in range(len(connect1_1)):\n",
    "        finalAns = [\"\"]\n",
    "        num = 0\n",
    "        for i in range(len(connect1_1[j])):\n",
    "            x = connect1_1[j].count(connect1_1[j][i])\n",
    "            if x == num and connect1_1[j][i] != finalAns[0] :   \n",
    "                finalAns.insert(0,connect1_1[j][i])\n",
    "            elif x>num:\n",
    "                finalAns = [connect1_1[j][i]]\n",
    "                num=x\n",
    "        Ans = Ans+ finalAns[0] + \" \"\n",
    "\n",
    "        #print('\\n Position', j+1, \":\", finalAns)\n",
    "    return(Ans)"
   ]
  },
  {
   "cell_type": "code",
   "execution_count": null,
   "id": "f3c28918",
   "metadata": {},
   "outputs": [],
   "source": []
  },
  {
   "cell_type": "code",
   "execution_count": 93,
   "id": "d748aa97",
   "metadata": {},
   "outputs": [
    {
     "name": "stdout",
     "output_type": "stream",
     "text": [
      "107925\n",
      "[143, 444, 836]\n"
     ]
    },
    {
     "name": "stderr",
     "output_type": "stream",
     "text": [
      "C:\\Users\\HOME\\anaconda3\\envs\\AIML\\lib\\site-packages\\ipykernel_launcher.py:161: VisibleDeprecationWarning: Creating an ndarray from ragged nested sequences (which is a list-or-tuple of lists-or-tuples-or ndarrays with different lengths or shapes) is deprecated. If you meant to do this, you must specify 'dtype=object' when creating the ndarray\n"
     ]
    },
    {
     "name": "stdout",
     "output_type": "stream",
     "text": [
      "[list(['ก า ', 'ร', 'ต', 'ร', 'ว', 'จ', 'จ', 'ั', 'บ', 'ล า ', 'ย', 'ม', 'ื', 'อ', 'เ', 'ข', 'ี', 'ย', 'น'])\n",
      " list(['เ', 'เ', 'ป', 'ล', 'ง', 'ค ว ', 'า', 'ม', 'ห ม ', 'า', 'ย', 'ท ด ', 'ส ภ ', 'บ', 'ก', 'า', 'ร', 'ท', '๐', 'า', 'ง', 'า', 'น'])\n",
      " list(['พ', 'ิ', 'เ', 'ศ', 'ษ', 'บ', 'า', 'ง', 'ฟ', 'ั', 'ง', 'ก', '์', 'ฮ', 'ั', 'น', 'ก', 'า', 'ร', 'ร', 'ม', 'ฐ2', 'ฐ', 'ญ', 'ั', 'ฤ', 'า', 'ภ', 'า'])]\n",
      "การตรวจจับลายมือเขียน\n",
      "แปลงความหมายทดสภบการทำงาน\n",
      "พิเศษบางฟังก์ฮันการรมฐญฤๅภา\n",
      "\n"
     ]
    },
    {
     "data": {
      "image/png": "[encoded data removed]",
      "text/plain": [
       "<Figure size 432x288 with 1 Axes>"
      ]
     },
     "metadata": {
      "needs_background": "light"
     },
     "output_type": "display_data"
    }
   ],
   "source": [
    "path = \"Pictures/tw36.jpg\"   \n",
    "image1 = cv2.imread(path)  #4\n",
    "img_in = image.load_img(path , color_mode='grayscale')\n",
    "\n",
    "scale_percent = 100 # percent of original size\n",
    "width = int(image1.shape[1] * scale_percent / 100)\n",
    "height = int(image1.shape[0] * scale_percent / 100)\n",
    "dim = (width, height)\n",
    "  \n",
    "image1 = cv2.resize(image1, dim, interpolation = cv2.INTER_AREA)\n",
    "\n",
    "# Convert the image to grayscale\n",
    "gray = cv2.cvtColor(image1, cv2.COLOR_BGR2GRAY) \n",
    "ret, binary = cv2.threshold(gray, 100, 255, cv2.THRESH_OTSU)\n",
    "inverted_binary = ~binary\n",
    "\n",
    "_,contours, hierarch = cv2.findContours(inverted_binary, cv2.RETR_TREE, cv2.CHAIN_APPROX_SIMPLE)\n",
    "with_contours = cv2.drawContours(binary, contours, 0, (0, 255, 0), -1)\n",
    "\n",
    "\n",
    "font = cv2.FONT_HERSHEY_SIMPLEX\n",
    "\n",
    "# delete contours\n",
    "deleteCnt = []\n",
    "for a in contours:\n",
    "    x1, y1, w1, h1 = cv2.boundingRect(a)\n",
    "    deleteCnt.append([x1, y1, w1, h1])\n",
    "    for b in contours:\n",
    "        x2, y2, w2, h2 = cv2.boundingRect(b)\n",
    "        if x2<x1 and y2<y1 and w2+x2 > w1+x1 and h2+y2 > h1+y1 :\n",
    "            deleteCnt.remove([x1, y1, w1, h1])\n",
    "            break\n",
    "\n",
    "\n",
    "# Draw a bounding box around all contours\n",
    "img_cr = []\n",
    "\n",
    "count_cor = 0\n",
    "count_all = 0\n",
    "collecx = []\n",
    "collecy = []\n",
    "final_position = []\n",
    "\n",
    "for c in contours:\n",
    "    x, y, w, h = cv2.boundingRect(c)\n",
    "    \n",
    "    if [x, y, w, h] not in deleteCnt:\n",
    "        continue\n",
    "    final_position.append([x, y, w, h])\n",
    "    collecx.append(x)\n",
    "    collecy.append(y)\n",
    "\n",
    "    \n",
    "def pedict(c):\n",
    "    x, y, w, h = c[0],c[1],c[2],c[3]\n",
    "    \n",
    "    \n",
    "    #if [x, y, w, h] not in deleteCnt:\n",
    "    #    continue\n",
    "    img_in = image.load_img(path , color_mode='grayscale')\n",
    "    \n",
    "    cropped_image = img_in.crop((x,y,x+w,y+h))\n",
    "    \n",
    "    #cropped_image = add_border(cropped_image, color=\"white\")  ##############################\n",
    "    img_cr.append(cropped_image) ####\n",
    "    \n",
    "    \n",
    "    cropped_image = cropped_image.resize((IMG_SIZE, IMG_SIZE))   ##############################\n",
    "    \n",
    "    #.imshow(cropped_image)\n",
    "    #plt.show()\n",
    "    \n",
    "    img = cropped_image\n",
    "    X = image.img_to_array(img)\n",
    "    #X = np.array(img)\n",
    "    X = np.expand_dims(X/255,axis = 0)\n",
    "    images = np.vstack([X])\n",
    "    \n",
    "    val = np.argmax(model.predict(images))\n",
    "    #ans1 = list(train_dataset.class_indices.keys())[val]\n",
    "    ans1 = ['1C','2C'][val]\n",
    "    \n",
    "    if model.predict(images)[0][1] > 0.09 :\n",
    "        ans1 = '2C'\n",
    "    \n",
    "    if ans1 == '1C':\n",
    "        ans = pred(x,y,w,h,img_in)\n",
    "        #print(ans)\n",
    "    else:\n",
    "        ans = sliding_window(x, y, w, h, img_in)\n",
    "    \n",
    "    #print(ans1,val,  model.predict(images))\n",
    "    \n",
    "  \n",
    "    \n",
    "    cv2.rectangle(with_contours,(x,y), (x+w,y+h), (100,255,250), 2)\n",
    "    cv2.putText(with_contours, ans1,(x+6,y-6), font, 0.5,(100,255,250), 1)\n",
    "    \n",
    "    return(ans)\n",
    "    \n",
    "\n",
    "X1 = []\n",
    "line = []\n",
    "check_point = 0\n",
    "total = img_in.size[0]*255\n",
    "hig = img_in.size[0]*0.135\n",
    "for i in range(height):\n",
    "    \n",
    "    sumRow = sum(np.array(img_in)[i])\n",
    "    count = total-sumRow\n",
    "    X1.append(count)\n",
    "    \n",
    "    if count >= 1200 and check_point == 0:\n",
    "        #line.append(i)\n",
    "        check_point = 1\n",
    "\n",
    "    if count < 30 and check_point == 1:\n",
    "        line.append(i-20)\n",
    "        cv2.rectangle(with_contours,(10,i-20), (1400,i-18), (100,255,250), 2)\n",
    "        check_point = 0\n",
    "        \n",
    "print(max(X1))     \n",
    "print(line)\n",
    "\n",
    "\n",
    "\n",
    "collecy.sort()\n",
    "collecx.sort()\n",
    "#L = [160 , 320, 450]\n",
    "#L = [240 , 480, 680] 27\n",
    "#L = [300 , 600,900]  #28\n",
    "collec_all = []\n",
    "for l in line:\n",
    "    collec_line = []\n",
    "    #print(np.array(final_position))\n",
    "    #print(collecx ,\"\\n\",collecy)\n",
    "    for i in collecx:\n",
    "        for p in final_position:\n",
    "\n",
    "            if p[0]==i and abs((p[1]+p[3])-l)<60:\n",
    "                #print(p)\n",
    "                w = pedict(p)\n",
    "                collec_line.append(w)\n",
    "                \n",
    "                final_position.remove(p)\n",
    "\n",
    "                lb = p[0]\n",
    "                ub = p[0]+p[2]\n",
    "                dele = []\n",
    "                for po in final_position:\n",
    "                    if po[0] >=lb-2 and po[0] <=ub+2 and abs(po[1]+po[3]-l)<hig :\n",
    "                        w = pedict(po)\n",
    "                        collec_line.append(w)\n",
    "                        dele.append(po)\n",
    "                for de in dele:\n",
    "                    final_position.remove(de)\n",
    "                        \n",
    "    collec_all.append(collec_line)\n",
    "            \n",
    "            \n",
    "print(np.array(collec_all))\n",
    "message = \"\"\n",
    "scrip = 0\n",
    "for l in collec_all:\n",
    "    line = \"\"\n",
    "    for i in range(len(l)):\n",
    "        if scrip == 1 :\n",
    "            scrip = 0\n",
    "            continue\n",
    "        c = l[i]\n",
    "        \n",
    "        if len(c)==4 : #ตัวติดกันมีสระบน\n",
    "            c1 = l[i].split()\n",
    "            try:\n",
    "                if l[i+2]!= \"ั\" and (l[i+1] == '่' or l[i+1] == '้' or l[i+1] == '๊' or l[i+1] == '๋' or l[i+1] == 'ั' or l[i+1] == 'ี' or l[i+1] == 'ิ' or l[i+1] == 'ึ'):\n",
    "                    c = c1[0]+ \"้\" + c1[1]\n",
    "                    scrip = 1\n",
    "                else:\n",
    "                    c = c1[0]+c1[1]\n",
    "                    \n",
    "            except:\n",
    "                c = c1[0]+c1[1]\n",
    "    \n",
    "            \n",
    "        if c == \"ั\": # สระ อะ\n",
    "            try:\n",
    "                if l[i+1] == \"ั\":\n",
    "                    c = \"ะ\"\n",
    "                    scrip = 1\n",
    "                else:\n",
    "                    errorrrr = 1\n",
    "            except:\n",
    "                errorrrr = 1\n",
    "                \n",
    "        if c == \"ฐ\" or c == \"ฐ2\": #ฐ\n",
    "            try:\n",
    "                if l[i+1] == \"ฐ\" or l[i+1] == \"ฐ2\":\n",
    "                    c = \"ฐ\"\n",
    "                    scrip = 1\n",
    "            except:\n",
    "                errorrrr = 1\n",
    "                \n",
    "        if c == \"ญ\" or c == \"ั\": #ญ\n",
    "            try:\n",
    "                if l[i+1] == \"ญ\" or l[i+1] == \"ั\":\n",
    "                    c = \"ญ\"\n",
    "                    scrip = 1\n",
    "            except:\n",
    "                errorrrr = 1\n",
    "                \n",
    "        if c == \"ฤ\" or c == \"ฦ\": # ฤๅ ฦๅ\n",
    "            try:\n",
    "                if l[i+1] == \"า\" :\n",
    "                    c = c + \"ๅ\"\n",
    "                    scrip = 1\n",
    "            except:\n",
    "                errorrrr = 1\n",
    "                \n",
    "        if c == \"๐\" or c == \"า\": # อำ\n",
    "            try:\n",
    "                if l[i+1] == \"า\" or l[i+1] == \"๐\":\n",
    "                    c = \"ำ\"\n",
    "                    scrip = 1\n",
    "            except:\n",
    "                errorrrr = 1\n",
    "                \n",
    "        if c == \"เ\": #แอ\n",
    "            try:\n",
    "                if l[i+1] == \"เ\":\n",
    "                    c = \"แ\"\n",
    "                    scrip = 1\n",
    "            except:\n",
    "                errorrrr = 1\n",
    "        \n",
    "        line += c\n",
    "    \n",
    "    \n",
    "    message += line + \"\\n\"\n",
    "    \n",
    "print(message)\n",
    "    \n",
    "    \n",
    "    \n",
    "\n",
    "        \n",
    "\n",
    "plt.imshow(with_contours)\n",
    "plt.show()\n",
    "\n",
    "\n",
    "#with_contours = cv2.resize(with_contours , (1300,800), interpolation = cv2.INTER_AREA)\n",
    "cv2.imshow('All contours with bounding box', with_contours)\n",
    "cv2.waitKey(0)\n",
    "cv2.destroyAllWindows()\n"
   ]
  },
  {
   "cell_type": "code",
   "execution_count": null,
   "id": "5c2de468",
   "metadata": {},
   "outputs": [],
   "source": []
  },
  {
   "cell_type": "code",
   "execution_count": 11,
   "id": "7d5b9830",
   "metadata": {},
   "outputs": [
    {
     "name": "stdout",
     "output_type": "stream",
     "text": [
      "[356, 394, 441, 465, 488, 492, 521, 528, 584, 591, 591, 625, 666, 683, 720, 751, 752] \n",
      " [211, 234, 242, 245, 250, 480, 480, 486, 541, 542, 765, 804, 809, 810, 813, 815, 904]\n"
     ]
    },
    {
     "data": {
      "image/png": "[encoded data removed]",
      "text/plain": [
       "<Figure size 432x288 with 1 Axes>"
      ]
     },
     "metadata": {
      "needs_background": "light"
     },
     "output_type": "display_data"
    }
   ],
   "source": [
    "collecy.sort()\n",
    "collecx.sort()\n",
    "\n",
    "print(collecx ,\"\\n\",collecy)\n",
    "plt.plot([c for c in range(17)], collecy, 'ro')\n",
    "plt.axis([0, 15, 0, 600])\n",
    "plt.show()"
   ]
  },
  {
   "cell_type": "code",
   "execution_count": 135,
   "id": "6a6048b2",
   "metadata": {},
   "outputs": [],
   "source": [
    "final_position1 = final_position"
   ]
  },
  {
   "cell_type": "code",
   "execution_count": 159,
   "id": "37940114",
   "metadata": {},
   "outputs": [
    {
     "name": "stdout",
     "output_type": "stream",
     "text": [
      "[158, 194, 219, 243, 278, 285, 312, 312, 325, 367, 381, 418, 484, 521] \n",
      " [104, 132, 138, 139, 140, 305, 308, 310, 312, 319, 322, 450, 451, 465]\n",
      "[158, 194, 219, 243, 278, 285, 312, 312, 325, 367, 381, 418, 484, 521] \n",
      " [104, 132, 138, 139, 140, 305, 308, 310, 312, 319, 322, 450, 451, 465]\n",
      "[158, 194, 219, 243, 278, 285, 312, 312, 325, 367, 381, 418, 484, 521] \n",
      " [104, 132, 138, 139, 140, 305, 308, 310, 312, 319, 322, 450, 451, 465]\n",
      "[]\n"
     ]
    }
   ],
   "source": [
    "collecy.sort()\n",
    "collecx.sort()\n",
    "L = [160 , 320, 450]\n",
    "collec_all = []\n",
    "for l in L:\n",
    "    collec_line = []\n",
    "    #print(np.array(final_position))\n",
    "    #print(collecx ,\"\\n\",collecy)\n",
    "    for i in collecx:\n",
    "        for p in final_position:\n",
    "\n",
    "            if p[0]==i and abs(p[1]-l)<30:\n",
    "                #print(p)\n",
    "                collec_line.append('ก')\n",
    "                final_position.remove(p)\n",
    "\n",
    "                lb = p[0]\n",
    "                ub = p[0]+p[2]\n",
    "                for po in final_position:\n",
    "                    if po[0] >=lb and po[0] <=ub and abs(po[1]-l)<60 :\n",
    "                        collec_line.append('ั')\n",
    "                        final_position.remove(po)\n",
    "                        \n",
    "    collec_all.append(collec_line)\n",
    "            \n",
    "            \n",
    "print(collec_word)"
   ]
  },
  {
   "cell_type": "code",
   "execution_count": 165,
   "id": "f4856bed",
   "metadata": {},
   "outputs": [
    {
     "name": "stdout",
     "output_type": "stream",
     "text": [
      "[['ก', 'ก', 'ก', 'ั', 'ก'], ['ก', 'ก', 'ก', 'ก', 'ก', 'ก'], ['ก', 'ก', 'ก']]\n",
      "กกกัก\n",
      "กกกกกก\n",
      "กกก\n",
      "\n"
     ]
    }
   ],
   "source": [
    "print(collec_all)\n",
    "message = \"\"\n",
    "for l in collec_all:\n",
    "    line = \"\"\n",
    "    for c in l:\n",
    "        line += c\n",
    "    \n",
    "    message += line + \"\\n\"\n",
    "    \n",
    "print(message)"
   ]
  },
  {
   "cell_type": "code",
   "execution_count": 146,
   "id": "e68fee35",
   "metadata": {},
   "outputs": [],
   "source": [
    "path = \"Pictures/tw26.jpg\"   \n",
    "image1 = cv2.imread(path)  #4"
   ]
  },
  {
   "cell_type": "code",
   "execution_count": 173,
   "id": "4acacb96",
   "metadata": {},
   "outputs": [],
   "source": []
  },
  {
   "cell_type": "code",
   "execution_count": null,
   "id": "bb3bf36d",
   "metadata": {},
   "outputs": [],
   "source": []
  },
  {
   "cell_type": "code",
   "execution_count": 69,
   "id": "64b7ddec",
   "metadata": {},
   "outputs": [
    {
     "data": {
      "text/plain": [
       "['บ', 'า']"
      ]
     },
     "execution_count": 69,
     "metadata": {},
     "output_type": "execute_result"
    }
   ],
   "source": [
    "XX = \"บ า\"\n",
    "XX.split()\n"
   ]
  },
  {
   "cell_type": "code",
   "execution_count": 25,
   "id": "90e55f06",
   "metadata": {},
   "outputs": [
    {
     "name": "stdout",
     "output_type": "stream",
     "text": [
      "[356, 394, 441, 465, 488, 492, 521, 528, 584, 591, 591, 625, 666, 683, 720, 751, 752] \n",
      " [211, 234, 242, 245, 250, 480, 480, 486, 541, 542, 765, 804, 809, 810, 813, 815, 904]\n"
     ]
    },
    {
     "data": {
      "image/png": "[encoded data removed]",
      "text/plain": [
       "<Figure size 432x288 with 1 Axes>"
      ]
     },
     "metadata": {
      "needs_background": "light"
     },
     "output_type": "display_data"
    }
   ],
   "source": [
    "\n",
    "print(collecx ,\"\\n\",collecy)\n",
    "plt.plot([c for c in range(17)], collecy, 'ro')\n",
    "plt.axis([0, 15, 0, 1000])\n",
    "plt.show()"
   ]
  },
  {
   "cell_type": "code",
   "execution_count": 24,
   "id": "7a7e131c",
   "metadata": {},
   "outputs": [
    {
     "data": {
      "image/png": "[encoded data removed]",
      "text/plain": [
       "<Figure size 432x288 with 1 Axes>"
      ]
     },
     "metadata": {
      "needs_background": "light"
     },
     "output_type": "display_data"
    }
   ],
   "source": [
    "plt.imshow(image1)\n",
    "plt.show()"
   ]
  },
  {
   "cell_type": "code",
   "execution_count": 79,
   "id": "4c6ed07b",
   "metadata": {},
   "outputs": [
    {
     "name": "stdout",
     "output_type": "stream",
     "text": [
      "2\n",
      "3\n",
      "4\n",
      "5\n",
      "6\n"
     ]
    }
   ],
   "source": [
    "z = [1,2,3,4,5,6]\n",
    "for i in range(len(z)):\n",
    "    try :\n",
    "        print(z[i+1])\n",
    "    except:\n",
    "        1+1"
   ]
  },
  {
   "cell_type": "code",
   "execution_count": null,
   "id": "9072de37",
   "metadata": {},
   "outputs": [],
   "source": []
  }
 ],
 "metadata": {
  "kernelspec": {
   "display_name": "Python 3",
   "language": "python",
   "name": "python3"
  },
  "language_info": {
   "codemirror_mode": {
    "name": "ipython",
    "version": 3
   },
   "file_extension": ".py",
   "mimetype": "text/x-python",
   "name": "python",
   "nbconvert_exporter": "python",
   "pygments_lexer": "ipython3",
   "version": "3.6.13"
  }
 },
 "nbformat": 4,
 "nbformat_minor": 5
}
