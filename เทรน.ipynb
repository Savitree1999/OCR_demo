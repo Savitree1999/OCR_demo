{
 "cells": [
  {
   "cell_type": "code",
   "execution_count": 1,
   "id": "9a50a267",
   "metadata": {
    "scrolled": true
   },
   "outputs": [
    {
     "name": "stderr",
     "output_type": "stream",
     "text": [
      "C:\\Users\\HOME\\anaconda3\\envs\\AIML\\lib\\site-packages\\tensorflow\\python\\framework\\dtypes.py:516: FutureWarning: Passing (type, 1) or '1type' as a synonym of type is deprecated; in a future version of numpy, it will be understood as (type, (1,)) / '(1,)type'.\n",
      "  _np_qint8 = np.dtype([(\"qint8\", np.int8, 1)])\n",
      "C:\\Users\\HOME\\anaconda3\\envs\\AIML\\lib\\site-packages\\tensorflow\\python\\framework\\dtypes.py:517: FutureWarning: Passing (type, 1) or '1type' as a synonym of type is deprecated; in a future version of numpy, it will be understood as (type, (1,)) / '(1,)type'.\n",
      "  _np_quint8 = np.dtype([(\"quint8\", np.uint8, 1)])\n",
      "C:\\Users\\HOME\\anaconda3\\envs\\AIML\\lib\\site-packages\\tensorflow\\python\\framework\\dtypes.py:518: FutureWarning: Passing (type, 1) or '1type' as a synonym of type is deprecated; in a future version of numpy, it will be understood as (type, (1,)) / '(1,)type'.\n",
      "  _np_qint16 = np.dtype([(\"qint16\", np.int16, 1)])\n",
      "C:\\Users\\HOME\\anaconda3\\envs\\AIML\\lib\\site-packages\\tensorflow\\python\\framework\\dtypes.py:519: FutureWarning: Passing (type, 1) or '1type' as a synonym of type is deprecated; in a future version of numpy, it will be understood as (type, (1,)) / '(1,)type'.\n",
      "  _np_quint16 = np.dtype([(\"quint16\", np.uint16, 1)])\n",
      "C:\\Users\\HOME\\anaconda3\\envs\\AIML\\lib\\site-packages\\tensorflow\\python\\framework\\dtypes.py:520: FutureWarning: Passing (type, 1) or '1type' as a synonym of type is deprecated; in a future version of numpy, it will be understood as (type, (1,)) / '(1,)type'.\n",
      "  _np_qint32 = np.dtype([(\"qint32\", np.int32, 1)])\n",
      "C:\\Users\\HOME\\anaconda3\\envs\\AIML\\lib\\site-packages\\tensorflow\\python\\framework\\dtypes.py:525: FutureWarning: Passing (type, 1) or '1type' as a synonym of type is deprecated; in a future version of numpy, it will be understood as (type, (1,)) / '(1,)type'.\n",
      "  np_resource = np.dtype([(\"resource\", np.ubyte, 1)])\n",
      "C:\\Users\\HOME\\anaconda3\\envs\\AIML\\lib\\site-packages\\tensorboard\\compat\\tensorflow_stub\\dtypes.py:541: FutureWarning: Passing (type, 1) or '1type' as a synonym of type is deprecated; in a future version of numpy, it will be understood as (type, (1,)) / '(1,)type'.\n",
      "  _np_qint8 = np.dtype([(\"qint8\", np.int8, 1)])\n",
      "C:\\Users\\HOME\\anaconda3\\envs\\AIML\\lib\\site-packages\\tensorboard\\compat\\tensorflow_stub\\dtypes.py:542: FutureWarning: Passing (type, 1) or '1type' as a synonym of type is deprecated; in a future version of numpy, it will be understood as (type, (1,)) / '(1,)type'.\n",
      "  _np_quint8 = np.dtype([(\"quint8\", np.uint8, 1)])\n",
      "C:\\Users\\HOME\\anaconda3\\envs\\AIML\\lib\\site-packages\\tensorboard\\compat\\tensorflow_stub\\dtypes.py:543: FutureWarning: Passing (type, 1) or '1type' as a synonym of type is deprecated; in a future version of numpy, it will be understood as (type, (1,)) / '(1,)type'.\n",
      "  _np_qint16 = np.dtype([(\"qint16\", np.int16, 1)])\n",
      "C:\\Users\\HOME\\anaconda3\\envs\\AIML\\lib\\site-packages\\tensorboard\\compat\\tensorflow_stub\\dtypes.py:544: FutureWarning: Passing (type, 1) or '1type' as a synonym of type is deprecated; in a future version of numpy, it will be understood as (type, (1,)) / '(1,)type'.\n",
      "  _np_quint16 = np.dtype([(\"quint16\", np.uint16, 1)])\n",
      "C:\\Users\\HOME\\anaconda3\\envs\\AIML\\lib\\site-packages\\tensorboard\\compat\\tensorflow_stub\\dtypes.py:545: FutureWarning: Passing (type, 1) or '1type' as a synonym of type is deprecated; in a future version of numpy, it will be understood as (type, (1,)) / '(1,)type'.\n",
      "  _np_qint32 = np.dtype([(\"qint32\", np.int32, 1)])\n",
      "C:\\Users\\HOME\\anaconda3\\envs\\AIML\\lib\\site-packages\\tensorboard\\compat\\tensorflow_stub\\dtypes.py:550: FutureWarning: Passing (type, 1) or '1type' as a synonym of type is deprecated; in a future version of numpy, it will be understood as (type, (1,)) / '(1,)type'.\n",
      "  np_resource = np.dtype([(\"resource\", np.ubyte, 1)])\n"
     ]
    }
   ],
   "source": [
    "from tensorflow.keras.preprocessing.image import ImageDataGenerator\n",
    "from tensorflow.keras.preprocessing import image\n",
    "from tensorflow.keras.optimizers import RMSprop\n",
    "from tensorflow.keras.models import load_model\n",
    "import matplotlib.pyplot as plt\n",
    "import tensorflow as tf\n",
    "import numpy as np\n",
    "import cv2\n",
    "import os"
   ]
  },
  {
   "cell_type": "code",
   "execution_count": 2,
   "id": "4b185b5e",
   "metadata": {},
   "outputs": [],
   "source": [
    "train = ImageDataGenerator(rescale = 1/255)\n",
    "validation = ImageDataGenerator(rescale = 1/255)"
   ]
  },
  {
   "cell_type": "code",
   "execution_count": 3,
   "id": "3ab267f2",
   "metadata": {},
   "outputs": [
    {
     "name": "stdout",
     "output_type": "stream",
     "text": [
      "Found 201849 images belonging to 78 classes.\n",
      "Found 67358 images belonging to 78 classes.\n"
     ]
    }
   ],
   "source": [
    "#C:\\Users\\HOME\\Desktop\\ThaiChar\\basedata\\test\n",
    "IMG_SIZE = 28\n",
    "train_dataset = train.flow_from_directory(\"C:\" + os.sep + \"Users\" + os.sep + \"HOME\" + os.sep + \"Desktop\" + os.sep + \"Blue\" + os.sep + \"train\",\n",
    "                                         target_size = (IMG_SIZE,IMG_SIZE),\n",
    "                                         color_mode='grayscale',\n",
    "                                         batch_size = 200,\n",
    "                                         class_mode = 'binary')\n",
    "\n",
    "validation_dataset = train.flow_from_directory(\"C:\" + os.sep + \"Users\" + os.sep + \"HOME\" + os.sep + \"Desktop\" + os.sep + \"Blue\" + os.sep + \"validation\",\n",
    "                                         target_size = (IMG_SIZE,IMG_SIZE),\n",
    "                                         color_mode='grayscale',\n",
    "                                         batch_size = 200,\n",
    "                                         class_mode = 'binary')"
   ]
  },
  {
   "cell_type": "code",
   "execution_count": 3,
   "id": "cd8a0b6c",
   "metadata": {},
   "outputs": [
    {
     "name": "stdout",
     "output_type": "stream",
     "text": [
      "Found 186435 images belonging to 2 classes.\n",
      "Found 61135 images belonging to 2 classes.\n"
     ]
    }
   ],
   "source": [
    "\n",
    "IMG_SIZE = 28\n",
    "\n",
    "train_dataset = train.flow_from_directory(\"C:\" + os.sep + \"Users\" + os.sep + \"HOME\" + os.sep + \"Desktop\" + os.sep + \"TwoClassesBlack\" + os.sep + \"Train\",\n",
    "                                         target_size = (IMG_SIZE,IMG_SIZE),\n",
    "                                         color_mode='grayscale',\n",
    "                                         batch_size = 200,\n",
    "                                         class_mode = 'binary')\n",
    "\n",
    "validation_dataset = train.flow_from_directory(\"C:\" + os.sep + \"Users\" + os.sep + \"HOME\" + os.sep + \"Desktop\" + os.sep + \"TwoClassesBlack\" + os.sep + \"Validation\",\n",
    "                                         target_size = (IMG_SIZE,IMG_SIZE),\n",
    "                                         color_mode='grayscale',\n",
    "                                         batch_size = 200,\n",
    "                                         class_mode = 'binary')"
   ]
  },
  {
   "cell_type": "code",
   "execution_count": 4,
   "id": "5015e563",
   "metadata": {},
   "outputs": [
    {
     "data": {
      "text/plain": [
       "{'001': 0,\n",
       " '002': 1,\n",
       " '003': 2,\n",
       " '004': 3,\n",
       " '005': 4,\n",
       " '006': 5,\n",
       " '007': 6,\n",
       " '008': 7,\n",
       " '009': 8,\n",
       " '010': 9,\n",
       " '011': 10,\n",
       " '012': 11,\n",
       " '013': 12,\n",
       " '014': 13,\n",
       " '015': 14,\n",
       " '016': 15,\n",
       " '017': 16,\n",
       " '018': 17,\n",
       " '019': 18,\n",
       " '020': 19,\n",
       " '021': 20,\n",
       " '022': 21,\n",
       " '023': 22,\n",
       " '024': 23,\n",
       " '025': 24,\n",
       " '026': 25,\n",
       " '027': 26,\n",
       " '028': 27,\n",
       " '029': 28,\n",
       " '030': 29,\n",
       " '031': 30,\n",
       " '032': 31,\n",
       " '033': 32,\n",
       " '034': 33,\n",
       " '035': 34,\n",
       " '036': 35,\n",
       " '037': 36,\n",
       " '038': 37,\n",
       " '039': 38,\n",
       " '040': 39,\n",
       " '041': 40,\n",
       " '042': 41,\n",
       " '043': 42,\n",
       " '044': 43,\n",
       " '045': 44,\n",
       " '047': 45,\n",
       " '048': 46,\n",
       " '049': 47,\n",
       " '050': 48,\n",
       " '051': 49,\n",
       " '052': 50,\n",
       " '053': 51,\n",
       " '054': 52,\n",
       " '055': 53,\n",
       " '056': 54,\n",
       " '057': 55,\n",
       " '058': 56,\n",
       " '059': 57,\n",
       " '060': 58,\n",
       " '061': 59,\n",
       " '063': 60,\n",
       " '064': 61,\n",
       " '065': 62,\n",
       " '066': 63,\n",
       " '067': 64,\n",
       " '068': 65,\n",
       " '069': 66,\n",
       " '071': 67,\n",
       " '072': 68,\n",
       " '073': 69,\n",
       " '074': 70,\n",
       " '075': 71,\n",
       " '076': 72,\n",
       " '077': 73,\n",
       " '078': 74,\n",
       " '079': 75,\n",
       " '080': 76,\n",
       " '081': 77}"
      ]
     },
     "execution_count": 4,
     "metadata": {},
     "output_type": "execute_result"
    }
   ],
   "source": [
    "train_dataset.class_indices\n"
   ]
  },
  {
   "cell_type": "code",
   "execution_count": null,
   "id": "db8d816c",
   "metadata": {},
   "outputs": [],
   "source": []
  },
  {
   "cell_type": "code",
   "execution_count": 5,
   "id": "6dbaf7bb",
   "metadata": {},
   "outputs": [
    {
     "name": "stdout",
     "output_type": "stream",
     "text": [
      "WARNING:tensorflow:From C:\\Users\\HOME\\anaconda3\\envs\\AIML\\lib\\site-packages\\tensorflow\\python\\ops\\init_ops.py:1251: calling VarianceScaling.__init__ (from tensorflow.python.ops.init_ops) with dtype is deprecated and will be removed in a future version.\n",
      "Instructions for updating:\n",
      "Call initializer instance with the dtype argument instead of passing it to the constructor\n"
     ]
    }
   ],
   "source": [
    "model = tf.keras.models.Sequential([ tf.keras.layers.Conv2D(64,(3,3),activation = 'relu' ,input_shape = (IMG_SIZE,IMG_SIZE,1)),\n",
    "                                  tf.keras.layers.MaxPool2D(2,2),\n",
    "                                  \n",
    "                                  tf.keras.layers.Conv2D(64,(3,3),activation = 'relu'),\n",
    "                                  tf.keras.layers.MaxPool2D(2,2),\n",
    "                                  \n",
    "                                  tf.keras.layers.Conv2D(64,(3,3),activation = 'relu'),\n",
    "                                  tf.keras.layers.MaxPool2D(2,2),\n",
    "                                   \n",
    "                                  tf.keras.layers.Flatten(),\n",
    "                                  \n",
    "                                  tf.keras.layers.Dense(64,activation = 'relu'),\n",
    "                                  \n",
    "                                  tf.keras.layers.Dense(78,activation = 'softmax')])"
   ]
  },
  {
   "cell_type": "code",
   "execution_count": 55,
   "id": "d6366714",
   "metadata": {},
   "outputs": [],
   "source": [
    "model = tf.keras.models.Sequential([ tf.keras.layers.Conv2D(64,(3,3),activation = 'relu' ,input_shape = (IMG_SIZE,IMG_SIZE,3)),\n",
    "                                  tf.keras.layers.MaxPool2D(2,2),\n",
    "                                  \n",
    "                                  tf.keras.layers.Conv2D(64,(3,3),activation = 'relu'),\n",
    "                                  tf.keras.layers.MaxPool2D(2,2),\n",
    "                                  \n",
    "                                  tf.keras.layers.Conv2D(64,(3,3),activation = 'relu'),\n",
    "                                  tf.keras.layers.MaxPool2D(2,2),\n",
    "                                   \n",
    "                                  tf.keras.layers.Flatten(),\n",
    "                                  \n",
    "                                  tf.keras.layers.Dense(64,activation = 'relu'),\n",
    "                                    \n",
    "                                  tf.keras.layers.Dense(32,activation = 'relu'),\n",
    "                                  \n",
    "                                  tf.keras.layers.Dense(2,activation = 'softmax')])"
   ]
  },
  {
   "cell_type": "code",
   "execution_count": 5,
   "id": "f2f11d0e",
   "metadata": {},
   "outputs": [
    {
     "name": "stdout",
     "output_type": "stream",
     "text": [
      "Model: \"sequential\"\n",
      "_________________________________________________________________\n",
      "Layer (type)                 Output Shape              Param #   \n",
      "=================================================================\n",
      "conv2d (Conv2D)              (None, 26, 26, 64)        640       \n",
      "_________________________________________________________________\n",
      "max_pooling2d (MaxPooling2D) (None, 13, 13, 64)        0         \n",
      "_________________________________________________________________\n",
      "conv2d_1 (Conv2D)            (None, 11, 11, 64)        36928     \n",
      "_________________________________________________________________\n",
      "max_pooling2d_1 (MaxPooling2 (None, 5, 5, 64)          0         \n",
      "_________________________________________________________________\n",
      "conv2d_2 (Conv2D)            (None, 3, 3, 64)          36928     \n",
      "_________________________________________________________________\n",
      "max_pooling2d_2 (MaxPooling2 (None, 1, 1, 64)          0         \n",
      "_________________________________________________________________\n",
      "flatten (Flatten)            (None, 64)                0         \n",
      "_________________________________________________________________\n",
      "dense (Dense)                (None, 64)                4160      \n",
      "_________________________________________________________________\n",
      "dense_1 (Dense)              (None, 78)                5070      \n",
      "=================================================================\n",
      "Total params: 83,726\n",
      "Trainable params: 83,726\n",
      "Non-trainable params: 0\n",
      "_________________________________________________________________\n"
     ]
    }
   ],
   "source": [
    "model.summary()"
   ]
  },
  {
   "cell_type": "code",
   "execution_count": 6,
   "id": "1c1bab24",
   "metadata": {},
   "outputs": [],
   "source": [
    "#loss = 'binary_crossentropy',\n",
    "model.compile(loss = 'sparse_categorical_crossentropy',\n",
    "             optimizer = RMSprop(lr = 0.001),\n",
    "#              optimizer = 'adam',\n",
    "             metrics = ['accuracy'])"
   ]
  },
  {
   "cell_type": "code",
   "execution_count": 7,
   "id": "460f39e6",
   "metadata": {},
   "outputs": [],
   "source": [
    "nb_epoch = 20\n",
    "nb_train_samples = 3000"
   ]
  },
  {
   "cell_type": "code",
   "execution_count": 10,
   "id": "6e564569",
   "metadata": {},
   "outputs": [
    {
     "name": "stdout",
     "output_type": "stream",
     "text": [
      "Epoch 1/5\n",
      "2000/2000 [==============================] - 1146s 573ms/step - loss: 0.1100 - acc: 0.9567 - val_loss: 0.0749 - val_acc: 0.9720\n",
      "Epoch 2/5\n",
      "2000/2000 [==============================] - 782s 391ms/step - loss: 0.0469 - acc: 0.9829 - val_loss: 0.0505 - val_acc: 0.9824\n",
      "Epoch 3/5\n",
      "2000/2000 [==============================] - 701s 350ms/step - loss: 0.0327 - acc: 0.9883 - val_loss: 0.0484 - val_acc: 0.9831\n",
      "Epoch 4/5\n",
      "2000/2000 [==============================] - 716s 358ms/step - loss: 0.0247 - acc: 0.9912 - val_loss: 0.0563 - val_acc: 0.9814\n",
      "Epoch 5/5\n",
      "2000/2000 [==============================] - 845s 422ms/step - loss: 0.0185 - acc: 0.9934 - val_loss: 0.0496 - val_acc: 0.9846\n"
     ]
    },
    {
     "data": {
      "text/plain": [
       "<tensorflow.python.keras.callbacks.History at 0x15aa710e0b8>"
      ]
     },
     "execution_count": 10,
     "metadata": {},
     "output_type": "execute_result"
    }
   ],
   "source": [
    "model.fit_generator(\n",
    "        train_dataset,\n",
    "        steps_per_epoch=nb_train_samples,\n",
    "        epochs=nb_epoch,\n",
    "        validation_data=validation_dataset)   "
   ]
  },
  {
   "cell_type": "code",
   "execution_count": 8,
   "id": "13a4028e",
   "metadata": {},
   "outputs": [
    {
     "name": "stdout",
     "output_type": "stream",
     "text": [
      "Epoch 1/20\n",
      "5000/5000 [==============================] - 1693s 339ms/step - loss: 0.9374 - acc: 0.7255 - val_loss: 0.6421 - val_acc: 0.8263\n",
      "Epoch 2/20\n",
      "5000/5000 [==============================] - 1517s 303ms/step - loss: 0.4239 - acc: 0.8652 - val_loss: 0.5575 - val_acc: 0.8558\n",
      "Epoch 3/20\n",
      "5000/5000 [==============================] - 1702s 340ms/step - loss: 0.3400 - acc: 0.8897 - val_loss: 0.5128 - val_acc: 0.8748\n",
      "Epoch 4/20\n",
      "5000/5000 [==============================] - 1693s 339ms/step - loss: 0.2975 - acc: 0.9022 - val_loss: 0.4947 - val_acc: 0.8855\n",
      "Epoch 5/20\n",
      "5000/5000 [==============================] - 1419s 284ms/step - loss: 0.2696 - acc: 0.9108 - val_loss: 0.4853 - val_acc: 0.8894\n",
      "Epoch 6/20\n",
      "5000/5000 [==============================] - 1494s 299ms/step - loss: 0.2504 - acc: 0.9164 - val_loss: 0.5111 - val_acc: 0.8910\n",
      "Epoch 7/20\n",
      "5000/5000 [==============================] - 1469s 294ms/step - loss: 0.2344 - acc: 0.9214 - val_loss: 0.4907 - val_acc: 0.8997\n",
      "Epoch 8/20\n",
      "5000/5000 [==============================] - 1459s 292ms/step - loss: 0.2219 - acc: 0.9248 - val_loss: 0.5334 - val_acc: 0.8981\n",
      "Epoch 9/20\n",
      "5000/5000 [==============================] - 1427s 285ms/step - loss: 0.2119 - acc: 0.9279 - val_loss: 0.4922 - val_acc: 0.9004\n",
      "Epoch 10/20\n",
      "5000/5000 [==============================] - 1409s 282ms/step - loss: 0.2024 - acc: 0.9307 - val_loss: 0.5252 - val_acc: 0.9087\n",
      "Epoch 11/20\n",
      "5000/5000 [==============================] - 1485s 297ms/step - loss: 0.1959 - acc: 0.9327 - val_loss: 0.5067 - val_acc: 0.9136\n",
      "Epoch 12/20\n",
      "5000/5000 [==============================] - 1533s 307ms/step - loss: 0.1888 - acc: 0.9347 - val_loss: 0.4896 - val_acc: 0.9128\n",
      "Epoch 13/20\n",
      "5000/5000 [==============================] - 1416s 283ms/step - loss: 0.1819 - acc: 0.9368 - val_loss: 0.5178 - val_acc: 0.9151\n",
      "Epoch 14/20\n",
      "5000/5000 [==============================] - 1483s 297ms/step - loss: 0.1769 - acc: 0.9384 - val_loss: 0.5792 - val_acc: 0.9144\n",
      "Epoch 15/20\n",
      "5000/5000 [==============================] - 1398s 280ms/step - loss: 0.1724 - acc: 0.9399 - val_loss: 0.6119 - val_acc: 0.9095\n",
      "Epoch 16/20\n",
      "5000/5000 [==============================] - 1471s 294ms/step - loss: 0.1674 - acc: 0.9412 - val_loss: 0.5278 - val_acc: 0.9209\n",
      "Epoch 17/20\n",
      "5000/5000 [==============================] - 1424s 285ms/step - loss: 0.1640 - acc: 0.9423 - val_loss: 0.5289 - val_acc: 0.9190\n",
      "Epoch 18/20\n",
      "5000/5000 [==============================] - 1467s 293ms/step - loss: 0.1596 - acc: 0.9435 - val_loss: 0.5496 - val_acc: 0.9210\n",
      "Epoch 19/20\n",
      "5000/5000 [==============================] - 1534s 307ms/step - loss: 0.1567 - acc: 0.9445 - val_loss: 0.5446 - val_acc: 0.9252\n",
      "Epoch 20/20\n",
      "5000/5000 [==============================] - 1536s 307ms/step - loss: 0.1537 - acc: 0.9454 - val_loss: 0.5135 - val_acc: 0.9246\n"
     ]
    },
    {
     "data": {
      "text/plain": [
       "<tensorflow.python.keras.callbacks.History at 0x2c4eb924358>"
      ]
     },
     "execution_count": 8,
     "metadata": {},
     "output_type": "execute_result"
    }
   ],
   "source": [
    "model.fit_generator(\n",
    "        train_dataset,\n",
    "        steps_per_epoch=nb_train_samples,\n",
    "        epochs=nb_epoch,\n",
    "        validation_data=validation_dataset)   "
   ]
  },
  {
   "cell_type": "code",
   "execution_count": 8,
   "id": "d4637556",
   "metadata": {},
   "outputs": [
    {
     "name": "stdout",
     "output_type": "stream",
     "text": [
      "Epoch 1/20\n",
      "3000/3000 [==============================] - 1034s 345ms/step - loss: 1.1382 - acc: 0.6732 - val_loss: 0.6746 - val_acc: 0.8203\n",
      "Epoch 2/20\n",
      "3000/3000 [==============================] - 856s 285ms/step - loss: 0.4174 - acc: 0.8674 - val_loss: 0.5188 - val_acc: 0.8670\n",
      "Epoch 3/20\n",
      "3000/3000 [==============================] - 867s 289ms/step - loss: 0.3064 - acc: 0.9005 - val_loss: 0.4674 - val_acc: 0.8884\n",
      "Epoch 4/20\n",
      "3000/3000 [==============================] - 834s 278ms/step - loss: 0.2537 - acc: 0.9166 - val_loss: 0.4576 - val_acc: 0.8930\n",
      "Epoch 5/20\n",
      "3000/3000 [==============================] - 893s 298ms/step - loss: 0.2220 - acc: 0.9260 - val_loss: 0.3905 - val_acc: 0.9152\n",
      "Epoch 6/20\n",
      "3000/3000 [==============================] - 909s 303ms/step - loss: 0.1997 - acc: 0.9328 - val_loss: 0.4581 - val_acc: 0.9030\n",
      "Epoch 7/20\n",
      "3000/3000 [==============================] - 920s 307ms/step - loss: 0.1836 - acc: 0.9377 - val_loss: 0.4120 - val_acc: 0.9193\n",
      "Epoch 8/20\n",
      "3000/3000 [==============================] - 822s 274ms/step - loss: 0.1697 - acc: 0.9420 - val_loss: 0.4086 - val_acc: 0.9220\n",
      "Epoch 9/20\n",
      "3000/3000 [==============================] - 909s 303ms/step - loss: 0.1586 - acc: 0.9455 - val_loss: 0.4263 - val_acc: 0.9247\n",
      "Epoch 10/20\n",
      "3000/3000 [==============================] - 917s 306ms/step - loss: 0.1496 - acc: 0.9483 - val_loss: 0.4294 - val_acc: 0.9250\n",
      "Epoch 11/20\n",
      "3000/3000 [==============================] - 852s 284ms/step - loss: 0.1404 - acc: 0.9511 - val_loss: 0.4543 - val_acc: 0.9296\n",
      "Epoch 12/20\n",
      "3000/3000 [==============================] - 891s 297ms/step - loss: 0.1339 - acc: 0.9534 - val_loss: 0.3899 - val_acc: 0.9348\n",
      "Epoch 13/20\n",
      "3000/3000 [==============================] - 876s 292ms/step - loss: 0.1277 - acc: 0.9556 - val_loss: 0.4331 - val_acc: 0.9348\n",
      "Epoch 14/20\n",
      "3000/3000 [==============================] - 892s 297ms/step - loss: 0.1219 - acc: 0.9573 - val_loss: 0.4322 - val_acc: 0.9368\n",
      "Epoch 15/20\n",
      "3000/3000 [==============================] - 944s 315ms/step - loss: 0.1171 - acc: 0.9589 - val_loss: 0.4480 - val_acc: 0.9382\n",
      "Epoch 16/20\n",
      "3000/3000 [==============================] - 925s 308ms/step - loss: 0.1124 - acc: 0.9604 - val_loss: 0.4717 - val_acc: 0.9351\n",
      "Epoch 17/20\n",
      "3000/3000 [==============================] - 998s 333ms/step - loss: 0.1081 - acc: 0.9620 - val_loss: 0.4351 - val_acc: 0.9440\n",
      "Epoch 18/20\n",
      "3000/3000 [==============================] - 963s 321ms/step - loss: 0.1053 - acc: 0.9629 - val_loss: 0.4676 - val_acc: 0.9409\n",
      "Epoch 19/20\n",
      "3000/3000 [==============================] - 990s 330ms/step - loss: 0.1013 - acc: 0.9645 - val_loss: 0.5527 - val_acc: 0.9373\n",
      "Epoch 20/20\n",
      "3000/3000 [==============================] - 946s 315ms/step - loss: 0.0991 - acc: 0.9651 - val_loss: 0.5278 - val_acc: 0.9405\n"
     ]
    },
    {
     "data": {
      "text/plain": [
       "<tensorflow.python.keras.callbacks.History at 0x2d090bb8358>"
      ]
     },
     "execution_count": 8,
     "metadata": {},
     "output_type": "execute_result"
    }
   ],
   "source": [
    "model.fit_generator(\n",
    "        train_dataset,\n",
    "        steps_per_epoch=nb_train_samples,\n",
    "        epochs=nb_epoch,\n",
    "        validation_data=validation_dataset)   "
   ]
  },
  {
   "cell_type": "code",
   "execution_count": 9,
   "id": "1808741c",
   "metadata": {},
   "outputs": [],
   "source": [
    "model.save(\"model_78classes_10Feb2022.h5\")"
   ]
  },
  {
   "cell_type": "code",
   "execution_count": 12,
   "id": "a8f1f0bc",
   "metadata": {},
   "outputs": [
    {
     "name": "stdout",
     "output_type": "stream",
     "text": [
      "Epoch 1/5\n",
      "3000/3000 [==============================] - 1016s 339ms/step - loss: 0.0884 - acc: 0.9688 - val_loss: 0.4611 - val_acc: 0.9523\n",
      "Epoch 2/5\n",
      "3000/3000 [==============================] - 1090s 363ms/step - loss: 0.0868 - acc: 0.9696 - val_loss: 0.5841 - val_acc: 0.9489\n",
      "Epoch 3/5\n",
      "3000/3000 [==============================] - 1032s 344ms/step - loss: 0.0851 - acc: 0.9701 - val_loss: 0.5418 - val_acc: 0.9511\n",
      "Epoch 4/5\n",
      "3000/3000 [==============================] - 1009s 336ms/step - loss: 0.0841 - acc: 0.9707 - val_loss: 0.6022 - val_acc: 0.9493\n",
      "Epoch 5/5\n",
      "3000/3000 [==============================] - 1156s 385ms/step - loss: 0.0824 - acc: 0.9713 - val_loss: 0.6540 - val_acc: 0.9486\n"
     ]
    },
    {
     "data": {
      "text/plain": [
       "<tensorflow.python.keras.callbacks.History at 0x2d090bc58d0>"
      ]
     },
     "execution_count": 12,
     "metadata": {},
     "output_type": "execute_result"
    }
   ],
   "source": [
    "nb_epoch = 5\n",
    "nb_train_samples = 3000\n",
    "model.fit_generator(\n",
    "        train_dataset,\n",
    "        steps_per_epoch=nb_train_samples,\n",
    "        epochs=nb_epoch,\n",
    "        validation_data=validation_dataset)   "
   ]
  },
  {
   "cell_type": "code",
   "execution_count": 33,
   "id": "af39ea59",
   "metadata": {},
   "outputs": [],
   "source": [
    "model.save(\"model3_78classes_10Feb2022.h5\")"
   ]
  },
  {
   "cell_type": "code",
   "execution_count": 32,
   "id": "265210da",
   "metadata": {},
   "outputs": [
    {
     "name": "stdout",
     "output_type": "stream",
     "text": [
      "3000/3000 [==============================] - 975s 325ms/step - loss: 0.0717 - acc: 0.9783 - val_loss: 1.0391 - val_acc: 0.9561\n"
     ]
    },
    {
     "data": {
      "text/plain": [
       "<tensorflow.python.keras.callbacks.History at 0x2d094335b00>"
      ]
     },
     "execution_count": 32,
     "metadata": {},
     "output_type": "execute_result"
    }
   ],
   "source": [
    "nb_epoch = 1\n",
    "nb_train_samples = 3000\n",
    "model.fit_generator(\n",
    "        train_dataset,\n",
    "        steps_per_epoch=nb_train_samples,\n",
    "        epochs=nb_epoch,\n",
    "        validation_data=validation_dataset)   "
   ]
  },
  {
   "cell_type": "code",
   "execution_count": 53,
   "id": "66ac54a1",
   "metadata": {},
   "outputs": [],
   "source": [
    "# model1 = load_model(\"model_2classes_22Dec2021.h5\")"
   ]
  },
  {
   "cell_type": "code",
   "execution_count": 91,
   "id": "78966ef2",
   "metadata": {},
   "outputs": [],
   "source": [
    "nb_epoch = 10\n",
    "nb_train_samples = 2000"
   ]
  },
  {
   "cell_type": "code",
   "execution_count": 92,
   "id": "89357ea9",
   "metadata": {},
   "outputs": [
    {
     "name": "stdout",
     "output_type": "stream",
     "text": [
      "Epoch 1/10\n",
      "2000/2000 [==============================] - 909s 455ms/step - loss: 1.6223 - acc: 0.5429 - val_loss: 1.0361 - val_acc: 0.7160\n",
      "Epoch 2/10\n",
      "2000/2000 [==============================] - 1013s 506ms/step - loss: 0.7526 - acc: 0.7658 - val_loss: 0.8083 - val_acc: 0.7802\n",
      "Epoch 3/10\n",
      "2000/2000 [==============================] - 841s 421ms/step - loss: 0.6044 - acc: 0.8080 - val_loss: 0.7292 - val_acc: 0.8064\n",
      "Epoch 4/10\n",
      "2000/2000 [==============================] - 678s 339ms/step - loss: 0.5338 - acc: 0.8277 - val_loss: 0.6720 - val_acc: 0.8226\n",
      "Epoch 5/10\n",
      "2000/2000 [==============================] - 824s 412ms/step - loss: 0.4852 - acc: 0.8418 - val_loss: 0.6545 - val_acc: 0.8341\n",
      "Epoch 6/10\n",
      "2000/2000 [==============================] - 815s 408ms/step - loss: 0.4508 - acc: 0.8520 - val_loss: 0.6002 - val_acc: 0.8432\n",
      "Epoch 7/10\n",
      "2000/2000 [==============================] - 795s 398ms/step - loss: 0.4247 - acc: 0.8589 - val_loss: 0.6157 - val_acc: 0.8442\n",
      "Epoch 8/10\n",
      "2000/2000 [==============================] - 800s 400ms/step - loss: 0.4046 - acc: 0.8657 - val_loss: 0.5915 - val_acc: 0.8548\n",
      "Epoch 9/10\n",
      "2000/2000 [==============================] - 866s 433ms/step - loss: 0.3843 - acc: 0.8712 - val_loss: 0.5924 - val_acc: 0.8581\n",
      "Epoch 10/10\n",
      "2000/2000 [==============================] - 790s 395ms/step - loss: 0.3744 - acc: 0.8740 - val_loss: 0.5533 - val_acc: 0.8661\n"
     ]
    },
    {
     "data": {
      "text/plain": [
       "<tensorflow.python.keras.callbacks.History at 0x1606fede2e8>"
      ]
     },
     "execution_count": 92,
     "metadata": {},
     "output_type": "execute_result"
    }
   ],
   "source": [
    "model.fit_generator(\n",
    "        train_dataset,\n",
    "        steps_per_epoch=nb_train_samples,\n",
    "        epochs=nb_epoch,\n",
    "        validation_data=validation_dataset)"
   ]
  },
  {
   "cell_type": "code",
   "execution_count": 93,
   "id": "12398329",
   "metadata": {},
   "outputs": [],
   "source": [
    "model.save(\"model1_80classes_07Jan2022.h5\")"
   ]
  },
  {
   "cell_type": "code",
   "execution_count": 94,
   "id": "4d2bc809",
   "metadata": {},
   "outputs": [],
   "source": [
    "dir_path = \"C:\" + os.sep + \"Users\" + os.sep + \"HOME\" + os.sep + \"Desktop\" + os.sep + \"TwoClasses\" + os.sep + \"database\" + os.sep + \"Train\" + os.sep + \"OneChar\""
   ]
  },
  {
   "cell_type": "code",
   "execution_count": 12,
   "id": "b31c52c1",
   "metadata": {},
   "outputs": [],
   "source": [
    "name_of_char = ['single 1','connect 2']\n",
    "#IMG_SIZE = 28"
   ]
  },
  {
   "cell_type": "code",
   "execution_count": 46,
   "id": "a7dff48e",
   "metadata": {},
   "outputs": [],
   "source": [
    "from tensorflow.keras.preprocessing import image"
   ]
  },
  {
   "cell_type": "code",
   "execution_count": 100,
   "id": "2258af10",
   "metadata": {},
   "outputs": [],
   "source": [
    "def a(no):\n",
    "    i = os.listdir(dir_path)[no]\n",
    "    print(i)\n",
    "    img = image.load_img(dir_path + os.sep + i, target_size = (IMG_SIZE,IMG_SIZE),color_mode='grayscale')\n",
    "    plt.imshow(img)\n",
    "    plt.show()\n",
    "    \n",
    "    X = image.img_to_array(img)\n",
    "    X = np.expand_dims(X/255,axis = 0)\n",
    "    images = np.vstack([X])\n",
    "    \n",
    "    probb = model.predict(images)\n",
    "    print(probb)\n",
    "    val = np.argmax(model.predict(images))\n",
    "    ans = name_of_char[val]\n",
    "    #ans1 = name_of_char[val]\n",
    "    ans1 = \"\"\n",
    "    print(ans,ans1,val,'\\n')\n",
    "    \n",
    "    \n",
    "    return(val)"
   ]
  },
  {
   "cell_type": "code",
   "execution_count": 101,
   "id": "fe0fe007",
   "metadata": {},
   "outputs": [],
   "source": [
    "name_of_char = ['ก','ข','ฃ','ค','ต','ฆ','ง','จ',\n",
    "                'ฉ','ช','ซ','ฌ','ญ','ฎ','ฏ','ฐ',\n",
    "                'ฑ','ฒ','ณ','ด','ต','ถ','ท','ธ',\n",
    "                'น','บ','ป','ผ','ฝ','พ','ฟ','ภ',\n",
    "                'ม','ย','ร','ล','ว','ศ','ษ','ส',\n",
    "                'ห','ฬ','อ','ฮ','อั','อั','อ็','อา',\n",
    "                'อิ','อี','อึ','อื','อุ','อู','เอ','แอ',\n",
    "                'ใอ','ไอ','โอ','ฤ','ฦ','อๅ','อ่','อ้',\n",
    "                'อ๊','อ๋','อ์','ๆ','ฯ','อำ','๐','๑',\n",
    "                '๒','๓','๔','๕','๖','๗','๘','๙']"
   ]
  },
  {
   "cell_type": "code",
   "execution_count": 106,
   "id": "6f591b6d",
   "metadata": {},
   "outputs": [
    {
     "name": "stdout",
     "output_type": "stream",
     "text": [
      "char_18_set_26 (15).png\n"
     ]
    },
    {
     "data": {
      "image/png": "[encoded data removed]",
      "text/plain": [
       "<Figure size 432x288 with 1 Axes>"
      ]
     },
     "metadata": {
      "needs_background": "light"
     },
     "output_type": "display_data"
    },
    {
     "name": "stdout",
     "output_type": "stream",
     "text": [
      "[[1.8525231e-15 6.8711176e-10 1.5695719e-09 3.4839601e-10 1.3158989e-09\n",
      "  2.3001411e-04 1.0753136e-12 5.9384886e-10 5.5802002e-06 6.9955243e-11\n",
      "  2.2185370e-08 2.0524897e-03 2.7212576e-05 8.6765066e-09 2.0611249e-10\n",
      "  4.4363823e-08 8.9692438e-12 9.9753678e-01 1.1310214e-04 1.5704846e-10\n",
      "  3.0258515e-12 1.5341751e-13 6.3095139e-14 3.0465721e-12 8.8825227e-06\n",
      "  1.6748446e-11 3.9453514e-14 4.2744059e-06 5.0005578e-13 2.1977440e-08\n",
      "  9.4222596e-10 2.6627455e-13 9.7113839e-10 6.8202145e-12 3.2804895e-10\n",
      "  8.2595507e-11 4.5159290e-10 4.3367638e-08 2.1618048e-06 1.4651187e-09\n",
      "  2.6566092e-06 4.6806461e-11 3.3625913e-10 9.4645880e-10 1.2042665e-12\n",
      "  2.7530073e-14 3.9252419e-07 3.5859937e-17 6.0472349e-10 2.7536289e-09\n",
      "  2.6181885e-07 5.5562296e-08 1.0626012e-16 1.2719069e-10 4.2405502e-14\n",
      "  1.3485578e-08 1.8640539e-10 1.0855016e-12 9.1788176e-14 2.3850547e-16\n",
      "  9.4898840e-16 7.1774669e-20 4.8357655e-24 6.6152117e-15 4.6923947e-06\n",
      "  3.4926236e-17 7.0290287e-11 6.1179366e-13 3.7849644e-17 4.0556842e-12\n",
      "  6.1365593e-15 2.8888177e-13 7.8904043e-07 2.8230640e-11 4.9394664e-08\n",
      "  3.4897044e-11 4.7983501e-10 8.7243779e-06 1.9903666e-06 4.7809928e-10]]\n",
      "ฒ  17 \n",
      "\n",
      "char_18_set_26 (17).png\n"
     ]
    },
    {
     "data": {
      "image/png": "[encoded data removed]",
      "text/plain": [
       "<Figure size 432x288 with 1 Axes>"
      ]
     },
     "metadata": {
      "needs_background": "light"
     },
     "output_type": "display_data"
    },
    {
     "name": "stdout",
     "output_type": "stream",
     "text": [
      "[[3.34753010e-27 5.79648363e-15 4.67893519e-13 5.68705076e-18\n",
      "  3.55405257e-16 2.69893953e-05 4.07648581e-22 1.80771744e-20\n",
      "  1.69715587e-14 1.26059865e-14 8.80401252e-10 1.02027810e-10\n",
      "  4.89960503e-12 6.38243519e-15 1.05561299e-17 3.62929325e-14\n",
      "  7.13718812e-18 9.99973059e-01 4.85653794e-15 6.80336739e-18\n",
      "  1.49279207e-18 2.62559794e-23 4.46667984e-25 5.49509680e-17\n",
      "  5.45117207e-12 8.89234987e-16 9.62572469e-21 1.82063520e-08\n",
      "  9.56483807e-13 1.62393252e-13 2.09634619e-15 2.18692611e-23\n",
      "  5.38565774e-13 5.06969981e-18 9.19551165e-15 1.06073092e-18\n",
      "  6.51088698e-19 8.81479812e-14 8.64110311e-11 1.13731910e-14\n",
      "  8.86240612e-14 7.91014000e-15 2.55419159e-16 4.32896947e-12\n",
      "  2.00889290e-19 1.37819428e-22 3.96284026e-14 4.82040332e-28\n",
      "  2.07132536e-20 3.20221997e-16 3.62179873e-17 2.02983441e-15\n",
      "  2.24800841e-27 1.02739940e-15 1.81019848e-16 1.60810264e-16\n",
      "  5.75674759e-17 2.36149854e-19 6.54490612e-18 5.65940677e-28\n",
      "  7.48064840e-26 1.20195238e-32 6.08066620e-38 7.03640804e-25\n",
      "  1.42217852e-11 5.40553767e-29 2.59958019e-20 7.51555732e-15\n",
      "  4.95946448e-25 9.24226476e-19 6.23598490e-24 2.07890069e-20\n",
      "  3.32491014e-11 2.11143732e-20 3.78620095e-12 1.32441827e-11\n",
      "  1.76940405e-14 3.58899604e-10 2.91761840e-12 4.60473029e-15]]\n",
      "ฒ  17 \n",
      "\n",
      "char_18_set_26 (18).png\n"
     ]
    },
    {
     "data": {
      "image/png": "[encoded data removed]",
      "text/plain": [
       "<Figure size 432x288 with 1 Axes>"
      ]
     },
     "metadata": {
      "needs_background": "light"
     },
     "output_type": "display_data"
    },
    {
     "name": "stdout",
     "output_type": "stream",
     "text": [
      "[[1.5411258e-13 4.4867661e-09 2.9468666e-10 5.5551198e-05 6.1831718e-10\n",
      "  1.9525950e-03 1.5338154e-09 1.7051296e-05 2.8151993e-03 1.2798249e-11\n",
      "  2.3061324e-10 4.7314739e-01 9.3952258e-06 7.0889706e-05 5.7541124e-06\n",
      "  1.5290988e-06 1.7439934e-14 5.1742643e-01 3.5737912e-06 7.1799832e-06\n",
      "  5.0301554e-13 8.3208782e-09 4.4629287e-16 5.2427026e-08 1.3297976e-07\n",
      "  1.3727590e-10 3.3346912e-11 3.5300743e-04 5.6494031e-08 1.1489204e-07\n",
      "  1.3944162e-07 1.3868706e-10 1.0828064e-06 6.3638210e-09 3.9200218e-06\n",
      "  6.1565035e-05 1.2158583e-03 5.7773199e-05 5.4339417e-08 2.1092781e-07\n",
      "  2.5235160e-08 6.7486146e-09 4.9990264e-04 5.9506160e-06 1.1048965e-09\n",
      "  2.7893868e-11 1.4240575e-03 7.2516584e-14 1.1396132e-05 1.3653544e-05\n",
      "  1.2853562e-07 1.5828127e-06 4.0969040e-13 1.0775989e-08 3.4659024e-08\n",
      "  2.1158073e-09 9.4102139e-09 8.7297896e-17 1.9751666e-11 5.3588845e-13\n",
      "  3.5721157e-13 5.6004118e-17 8.0955889e-20 8.5081872e-12 1.7144435e-05\n",
      "  2.0291194e-14 3.7379753e-08 1.3939248e-10 6.5764564e-17 2.3517268e-08\n",
      "  2.8704253e-08 1.0591308e-07 6.4184815e-07 8.9030491e-11 2.0981145e-04\n",
      "  4.7764155e-07 9.8217839e-08 6.0677990e-05 5.4764230e-04 1.7325628e-09]]\n",
      "ฒ  17 \n",
      "\n",
      "char_18_set_26 (19).png\n"
     ]
    },
    {
     "data": {
      "image/png": "[encoded data removed]",
      "text/plain": [
       "<Figure size 432x288 with 1 Axes>"
      ]
     },
     "metadata": {
      "needs_background": "light"
     },
     "output_type": "display_data"
    },
    {
     "name": "stdout",
     "output_type": "stream",
     "text": [
      "[[3.7293658e-22 9.4318086e-13 1.1940361e-11 2.0293461e-15 2.6398188e-15\n",
      "  5.6090611e-03 1.4276375e-16 5.7894466e-18 1.1986042e-11 4.6287117e-13\n",
      "  2.5515756e-09 8.3376017e-06 2.1632124e-08 9.9501820e-13 5.8149756e-15\n",
      "  2.2385594e-13 1.3218607e-16 9.9438113e-01 1.7564281e-10 2.7016438e-14\n",
      "  1.5344341e-14 7.7356813e-17 3.4350571e-18 2.2083117e-15 2.0688016e-09\n",
      "  9.6135599e-13 5.4092182e-18 1.3976889e-06 8.5429832e-12 3.0622571e-10\n",
      "  2.2768072e-12 3.8926504e-19 2.0576783e-11 6.9420516e-14 2.1537196e-11\n",
      "  3.5360373e-17 2.8211708e-13 2.7691383e-13 4.1766060e-10 2.7909248e-14\n",
      "  2.1890947e-09 2.2803352e-13 4.3483781e-14 3.7790160e-11 1.9812035e-14\n",
      "  1.7505322e-17 2.5896460e-10 9.1106311e-22 1.6541084e-13 2.3649762e-13\n",
      "  4.5560815e-13 9.1075108e-13 2.9658560e-22 7.5173412e-13 2.7459010e-10\n",
      "  5.2384674e-10 9.6850018e-14 6.0455051e-17 1.3235719e-15 4.6076828e-22\n",
      "  2.0986029e-22 5.6701300e-26 3.9832700e-29 5.2141707e-19 8.8999097e-10\n",
      "  1.4166853e-22 4.0701776e-14 1.5658992e-13 1.4764002e-21 9.1703226e-15\n",
      "  2.5804618e-20 7.0717676e-17 8.0822971e-10 5.5338285e-15 7.3473706e-11\n",
      "  4.9836103e-12 2.4837387e-11 8.3360741e-10 1.5587149e-09 3.7211657e-15]]\n",
      "ฒ  17 \n",
      "\n",
      "char_18_set_26 (20).png\n"
     ]
    },
    {
     "data": {
      "image/png": "[encoded data removed]",
      "text/plain": [
       "<Figure size 432x288 with 1 Axes>"
      ]
     },
     "metadata": {
      "needs_background": "light"
     },
     "output_type": "display_data"
    },
    {
     "name": "stdout",
     "output_type": "stream",
     "text": [
      "[[1.70478658e-15 6.20553942e-10 6.79500789e-10 4.30409797e-09\n",
      "  1.18147465e-08 2.76142600e-06 2.47091978e-16 3.97144623e-10\n",
      "  9.88341799e-06 8.33627056e-10 2.86917981e-07 3.19857558e-04\n",
      "  3.18095190e-05 2.92041205e-14 3.08245115e-15 1.40160754e-08\n",
      "  1.49790059e-11 9.99233842e-01 1.11871677e-05 1.98295291e-09\n",
      "  1.23984012e-09 1.63168293e-13 2.44634025e-14 4.75303574e-10\n",
      "  5.99230390e-08 1.35257213e-11 2.43322191e-14 4.64154209e-06\n",
      "  1.69735042e-11 1.78234174e-07 3.11535769e-10 8.32072204e-13\n",
      "  8.64157412e-10 9.08253236e-14 1.74880336e-11 1.70643144e-09\n",
      "  1.30242854e-12 2.03123709e-04 9.21534937e-09 8.56832916e-09\n",
      "  1.03013548e-07 1.37508407e-10 3.49880800e-08 2.46169918e-07\n",
      "  1.17588328e-12 4.31638801e-13 1.14971829e-06 6.63558745e-18\n",
      "  4.17488784e-14 6.41733194e-13 1.97332678e-10 3.62294287e-12\n",
      "  9.73961827e-18 1.73384515e-10 2.02515820e-13 5.73019659e-13\n",
      "  1.44252001e-13 1.19199903e-17 1.03840480e-15 1.09238448e-17\n",
      "  6.87296959e-17 3.88951340e-23 6.20087381e-26 5.06718013e-14\n",
      "  1.30476605e-04 6.46019092e-21 1.58124250e-10 2.94054370e-15\n",
      "  5.75489973e-19 7.73284106e-13 3.30203496e-14 4.31635284e-14\n",
      "  2.13089435e-09 9.19226847e-12 4.28531507e-07 6.59147320e-11\n",
      "  8.19514700e-16 4.93916450e-05 4.39583346e-07 2.45348991e-10]]\n",
      "ฒ  17 \n",
      "\n"
     ]
    }
   ],
   "source": [
    "for i in range(10100,10105):\n",
    "    a(i)"
   ]
  },
  {
   "cell_type": "code",
   "execution_count": 15,
   "id": "83b4721c",
   "metadata": {},
   "outputs": [
    {
     "name": "stdout",
     "output_type": "stream",
     "text": [
      "char_32_set_38 (27).png\n"
     ]
    },
    {
     "data": {
      "image/png": "[encoded data removed]",
      "text/plain": [
       "<Figure size 432x288 with 1 Axes>"
      ]
     },
     "metadata": {
      "needs_background": "light"
     },
     "output_type": "display_data"
    },
    {
     "name": "stdout",
     "output_type": "stream",
     "text": [
      "[[1. 0.]]\n",
      "OneChar  0 \n",
      "\n"
     ]
    }
   ],
   "source": [
    "dir_path = \"C:\" + os.sep + \"Users\" + os.sep + \"HOME\" + os.sep + \"Desktop\" + os.sep + \"Blue\" + os.sep + \"test\"\n",
    "imag = a(910)"
   ]
  },
  {
   "cell_type": "code",
   "execution_count": null,
   "id": "1273486b",
   "metadata": {},
   "outputs": [],
   "source": []
  },
  {
   "cell_type": "code",
   "execution_count": 50,
   "id": "5cae079c",
   "metadata": {},
   "outputs": [
    {
     "name": "stdout",
     "output_type": "stream",
     "text": [
      "['OneChar', 'TwoChar']\n"
     ]
    }
   ],
   "source": [
    "ans = train_dataset.class_indices.keys()\n",
    "ans = list(ans)\n",
    "print(ans)"
   ]
  },
  {
   "cell_type": "code",
   "execution_count": null,
   "id": "83d84873",
   "metadata": {},
   "outputs": [],
   "source": []
  },
  {
   "cell_type": "code",
   "execution_count": 73,
   "id": "689461b8",
   "metadata": {},
   "outputs": [
    {
     "name": "stdout",
     "output_type": "stream",
     "text": [
      "Total number of contours detected: 46\n",
      "TwoChar\n",
      "TwoChar\n",
      "TwoChar\n",
      "TwoChar\n",
      "TwoChar\n",
      "TwoChar\n",
      "TwoChar\n",
      "TwoChar\n",
      "TwoChar\n",
      "TwoChar\n",
      "TwoChar\n",
      "TwoChar\n",
      "TwoChar\n",
      "TwoChar\n",
      "TwoChar\n",
      "TwoChar\n",
      "TwoChar\n",
      "TwoChar\n",
      "TwoChar\n",
      "TwoChar\n",
      "TwoChar\n",
      "TwoChar\n",
      "TwoChar\n",
      "TwoChar\n",
      "TwoChar\n"
     ]
    },
    {
     "data": {
      "image/png": "[encoded data removed]",
      "text/plain": [
       "<Figure size 432x288 with 1 Axes>"
      ]
     },
     "metadata": {
      "needs_background": "light"
     },
     "output_type": "display_data"
    },
    {
     "name": "stdout",
     "output_type": "stream",
     "text": [
      "TwoChar connect\n"
     ]
    },
    {
     "data": {
      "image/png": "[encoded data removed]",
      "text/plain": [
       "<Figure size 432x288 with 1 Axes>"
      ]
     },
     "metadata": {
      "needs_background": "light"
     },
     "output_type": "display_data"
    },
    {
     "name": "stdout",
     "output_type": "stream",
     "text": [
      "TwoChar connect\n"
     ]
    },
    {
     "data": {
      "image/png": "[encoded data removed]",
      "text/plain": [
       "<Figure size 432x288 with 1 Axes>"
      ]
     },
     "metadata": {
      "needs_background": "light"
     },
     "output_type": "display_data"
    },
    {
     "name": "stdout",
     "output_type": "stream",
     "text": [
      "TwoChar connect\n"
     ]
    },
    {
     "data": {
      "image/png": "[encoded data removed]",
      "text/plain": [
       "<Figure size 432x288 with 1 Axes>"
      ]
     },
     "metadata": {
      "needs_background": "light"
     },
     "output_type": "display_data"
    },
    {
     "name": "stdout",
     "output_type": "stream",
     "text": [
      "TwoChar connect\n"
     ]
    },
    {
     "data": {
      "image/png": "[encoded data removed]",
      "text/plain": [
       "<Figure size 432x288 with 1 Axes>"
      ]
     },
     "metadata": {
      "needs_background": "light"
     },
     "output_type": "display_data"
    },
    {
     "name": "stdout",
     "output_type": "stream",
     "text": [
      "TwoChar connect\n"
     ]
    },
    {
     "data": {
      "image/png": "[encoded data removed]",
      "text/plain": [
       "<Figure size 432x288 with 1 Axes>"
      ]
     },
     "metadata": {
      "needs_background": "light"
     },
     "output_type": "display_data"
    },
    {
     "name": "stdout",
     "output_type": "stream",
     "text": [
      "TwoChar connect\n"
     ]
    },
    {
     "data": {
      "image/png": "[encoded data removed]",
      "text/plain": [
       "<Figure size 432x288 with 1 Axes>"
      ]
     },
     "metadata": {
      "needs_background": "light"
     },
     "output_type": "display_data"
    },
    {
     "name": "stdout",
     "output_type": "stream",
     "text": [
      "TwoChar connect\n"
     ]
    },
    {
     "data": {
      "image/png": "[encoded data removed]",
      "text/plain": [
       "<Figure size 432x288 with 1 Axes>"
      ]
     },
     "metadata": {
      "needs_background": "light"
     },
     "output_type": "display_data"
    },
    {
     "name": "stdout",
     "output_type": "stream",
     "text": [
      "TwoChar connect\n"
     ]
    },
    {
     "data": {
      "image/png": "[encoded data removed]",
      "text/plain": [
       "<Figure size 432x288 with 1 Axes>"
      ]
     },
     "metadata": {
      "needs_background": "light"
     },
     "output_type": "display_data"
    },
    {
     "name": "stdout",
     "output_type": "stream",
     "text": [
      "TwoChar connect\n"
     ]
    },
    {
     "data": {
      "image/png": "[encoded data removed]",
      "text/plain": [
       "<Figure size 432x288 with 1 Axes>"
      ]
     },
     "metadata": {
      "needs_background": "light"
     },
     "output_type": "display_data"
    },
    {
     "name": "stdout",
     "output_type": "stream",
     "text": [
      "TwoChar connect\n"
     ]
    },
    {
     "data": {
      "image/png": "[encoded data removed]",
      "text/plain": [
       "<Figure size 432x288 with 1 Axes>"
      ]
     },
     "metadata": {
      "needs_background": "light"
     },
     "output_type": "display_data"
    },
    {
     "name": "stdout",
     "output_type": "stream",
     "text": [
      "TwoChar connect\n"
     ]
    },
    {
     "data": {
      "image/png": "[encoded data removed]",
      "text/plain": [
       "<Figure size 432x288 with 1 Axes>"
      ]
     },
     "metadata": {
      "needs_background": "light"
     },
     "output_type": "display_data"
    },
    {
     "name": "stdout",
     "output_type": "stream",
     "text": [
      "TwoChar connect\n"
     ]
    },
    {
     "data": {
      "image/png": "[encoded data removed]",
      "text/plain": [
       "<Figure size 432x288 with 1 Axes>"
      ]
     },
     "metadata": {
      "needs_background": "light"
     },
     "output_type": "display_data"
    },
    {
     "name": "stdout",
     "output_type": "stream",
     "text": [
      "TwoChar connect\n"
     ]
    },
    {
     "data": {
      "image/png": "[encoded data removed]",
      "text/plain": [
       "<Figure size 432x288 with 1 Axes>"
      ]
     },
     "metadata": {
      "needs_background": "light"
     },
     "output_type": "display_data"
    },
    {
     "name": "stdout",
     "output_type": "stream",
     "text": [
      "TwoChar connect\n"
     ]
    },
    {
     "data": {
      "image/png": "[encoded data removed]",
      "text/plain": [
       "<Figure size 432x288 with 1 Axes>"
      ]
     },
     "metadata": {
      "needs_background": "light"
     },
     "output_type": "display_data"
    },
    {
     "name": "stdout",
     "output_type": "stream",
     "text": [
      "TwoChar connect\n"
     ]
    },
    {
     "data": {
      "image/png": "[encoded data removed]",
      "text/plain": [
       "<Figure size 432x288 with 1 Axes>"
      ]
     },
     "metadata": {
      "needs_background": "light"
     },
     "output_type": "display_data"
    },
    {
     "name": "stdout",
     "output_type": "stream",
     "text": [
      "TwoChar connect\n"
     ]
    },
    {
     "data": {
      "image/png": "[encoded data removed]",
      "text/plain": [
       "<Figure size 432x288 with 1 Axes>"
      ]
     },
     "metadata": {
      "needs_background": "light"
     },
     "output_type": "display_data"
    },
    {
     "name": "stdout",
     "output_type": "stream",
     "text": [
      "TwoChar connect\n"
     ]
    },
    {
     "data": {
      "image/png": "[encoded data removed]",
      "text/plain": [
       "<Figure size 432x288 with 1 Axes>"
      ]
     },
     "metadata": {
      "needs_background": "light"
     },
     "output_type": "display_data"
    },
    {
     "name": "stdout",
     "output_type": "stream",
     "text": [
      "TwoChar connect\n"
     ]
    },
    {
     "data": {
      "image/png": "[encoded data removed]",
      "text/plain": [
       "<Figure size 432x288 with 1 Axes>"
      ]
     },
     "metadata": {
      "needs_background": "light"
     },
     "output_type": "display_data"
    },
    {
     "name": "stdout",
     "output_type": "stream",
     "text": [
      "TwoChar connect\n"
     ]
    },
    {
     "data": {
      "image/png": "[encoded data removed]",
      "text/plain": [
       "<Figure size 432x288 with 1 Axes>"
      ]
     },
     "metadata": {
      "needs_background": "light"
     },
     "output_type": "display_data"
    },
    {
     "name": "stdout",
     "output_type": "stream",
     "text": [
      "TwoChar connect\n"
     ]
    },
    {
     "data": {
      "image/png": "[encoded data removed]",
      "text/plain": [
       "<Figure size 432x288 with 1 Axes>"
      ]
     },
     "metadata": {
      "needs_background": "light"
     },
     "output_type": "display_data"
    },
    {
     "name": "stdout",
     "output_type": "stream",
     "text": [
      "TwoChar connect\n"
     ]
    },
    {
     "data": {
      "image/png": "[encoded data removed]",
      "text/plain": [
       "<Figure size 432x288 with 1 Axes>"
      ]
     },
     "metadata": {
      "needs_background": "light"
     },
     "output_type": "display_data"
    },
    {
     "name": "stdout",
     "output_type": "stream",
     "text": [
      "TwoChar connect\n"
     ]
    },
    {
     "data": {
      "image/png": "[encoded data removed]",
      "text/plain": [
       "<Figure size 432x288 with 1 Axes>"
      ]
     },
     "metadata": {
      "needs_background": "light"
     },
     "output_type": "display_data"
    },
    {
     "name": "stdout",
     "output_type": "stream",
     "text": [
      "TwoChar connect\n"
     ]
    },
    {
     "data": {
      "image/png": "[encoded data removed]",
      "text/plain": [
       "<Figure size 432x288 with 1 Axes>"
      ]
     },
     "metadata": {
      "needs_background": "light"
     },
     "output_type": "display_data"
    },
    {
     "name": "stdout",
     "output_type": "stream",
     "text": [
      "TwoChar connect\n"
     ]
    },
    {
     "data": {
      "image/png": "[encoded data removed]",
      "text/plain": [
       "<Figure size 432x288 with 1 Axes>"
      ]
     },
     "metadata": {
      "needs_background": "light"
     },
     "output_type": "display_data"
    },
    {
     "name": "stdout",
     "output_type": "stream",
     "text": [
      "TwoChar connect\n"
     ]
    }
   ],
   "source": [
    "image1 = cv2.imread(\"Pictures/tw1.jpg\")\n",
    "#image1 = cv2.imread(\"Pictures/Test.jpg\")\n",
    "#image = cv2.imread(\"nine.png\")\n",
    "#image = cv2.imread(\"pic.jpg\")\n",
    "\n",
    "scale_percent = 60 # percent of original size\n",
    "width = int(image1.shape[1] * scale_percent / 100)\n",
    "height = int(image1.shape[0] * scale_percent / 100)\n",
    "dim = (width, height)\n",
    "  \n",
    "image1 = cv2.resize(image1, dim, interpolation = cv2.INTER_AREA)\n",
    "\n",
    "new_image = image1.copy()\n",
    " \n",
    "# Convert the image to grayscale\n",
    "gray = cv2.cvtColor(image1, cv2.COLOR_BGR2GRAY)\n",
    " \n",
    "ret, binary = cv2.threshold(gray, 100, 255, cv2.THRESH_OTSU)\n",
    " \n",
    "inverted_binary = ~binary\n",
    "\n",
    "_,contours, hierarch = cv2.findContours(inverted_binary,\n",
    "  cv2.RETR_TREE,\n",
    "  cv2.CHAIN_APPROX_SIMPLE)\n",
    "\n",
    "with_contours = cv2.drawContours(binary, contours, 0, (0, 255, 0), -1)\n",
    "\n",
    "print('Total number of contours detected: ' + str(len(contours)))\n",
    "     \n",
    "#first_contour = cv2.drawContours(new_image,contours, 0,(255,0,255),3)\n",
    "\n",
    "#x, y, w, h = cv2.boundingRect(contours[0])\n",
    "\n",
    "\n",
    "# delete contours\n",
    "deleteCnt = []\n",
    "for a in contours:\n",
    "    x1, y1, w1, h1 = cv2.boundingRect(a)\n",
    "    deleteCnt.append([x1, y1, w1, h1])\n",
    "    for b in contours:\n",
    "        x2, y2, w2, h2 = cv2.boundingRect(b)\n",
    "        if x2<x1 and y2<y1 and w2+x2 > w1+x1 and h2+y2 > h1+y1 :\n",
    "            deleteCnt.remove([x1, y1, w1, h1])\n",
    "            break\n",
    "  \n",
    "    \n",
    "'''\n",
    "'''\n",
    " \n",
    "# Draw a bounding box around all contours\n",
    "img_cr = []\n",
    "\n",
    "\n",
    "i = 1\n",
    "for c in contours:\n",
    "    x, y, w, h = cv2.boundingRect(c)\n",
    "    if [x, y, w, h] not in deleteCnt:\n",
    "        continue\n",
    "    tex = str(i)\n",
    "    i = i+1\n",
    "    # Make sure contour area is large enough\n",
    "    \n",
    "    cv2.rectangle(with_contours,(x,y), (x+w,y+h), (100,255,50), 4)\n",
    "    #cv2.putText(with_contours, tex, ((x+w)/2,(y+h)/2) , (255,0,0), 5)\n",
    "    font = cv2.FONT_HERSHEY_SIMPLEX\n",
    "    cropped_image = image1[y:y+h,x:x+w]\n",
    "    img_cr.append(cropped_image)\n",
    "    img = cropped_image\n",
    "    img = cv2.resize(img, (IMG_SIZE, IMG_SIZE))     \n",
    "    #plt.imshow(img)\n",
    "    #plt.show()\n",
    "        \n",
    "    #X = image.img_to_array(img)\n",
    "    X = np.array(img)\n",
    "    X = np.expand_dims(X,axis = 0)\n",
    "    images = np.vstack([X])\n",
    "        \n",
    "    val = np.argmax(model.predict(images))\n",
    "    ans1 = list(train_dataset.class_indices.keys())[val]\n",
    "    print(ans1)\n",
    "    ans = str(val)\n",
    "        \n",
    "    #print(x,y,w,h)\n",
    "        \n",
    "        \n",
    "    cv2.putText(with_contours, tex,(x+6,y-6), font, 1,(100,255,50), 3)\n",
    "        \n",
    "        \n",
    "for i in img_cr:\n",
    "    img = i\n",
    "    #img = img[:,:,::-1]\n",
    "    img = add_border(img, color=\"white\") \n",
    "    \n",
    "    plt.imshow(img)\n",
    "    plt.show()\n",
    "    \n",
    "    #X = image.img_to_array(img)\n",
    "    X = np.array(img)\n",
    "    X = np.expand_dims(X,axis = 0)\n",
    "    images = np.vstack([X])\n",
    "    \n",
    "    val = np.argmax(model.predict(images))\n",
    "    ans = list(train_dataset.class_indices.keys())[val]\n",
    "    ans1 = name_of_char[val]\n",
    "    print(ans, ans1)\n",
    "  \n",
    "         \n",
    "cv2.imshow('All contours with bounding box', with_contours)\n",
    "cv2.waitKey(0)\n",
    "cv2.destroyAllWindows()"
   ]
  },
  {
   "cell_type": "code",
   "execution_count": 19,
   "id": "b9d05ba6",
   "metadata": {},
   "outputs": [],
   "source": [
    "# No1\n",
    "from PIL import Image, ImageOps\n",
    "def add_border(input_image, color):\n",
    "    img = input_image\n",
    "    x,y,_ = img.shape\n",
    "    #print(x,y)\n",
    "    if x>y :\n",
    "        border_x = int(x/15)\n",
    "        border_y = int(((x+2*border_x)-y)/2)\n",
    "    elif y>x :\n",
    "        border_y = int(y/15)\n",
    "        border_x = int(((y+2*border_y)-x)/2)\n",
    "    else:\n",
    "        border_x = int(x/15)\n",
    "        border_y = int(y/15)\n",
    "    \n",
    "    #print(x,y,border_x,border_y)\n",
    "    img = Image.fromarray(img)\n",
    "    border = (border_y, border_x, border_y, border_x)\n",
    "\n",
    "    if isinstance(border, int) or isinstance(border, tuple):\n",
    "        bimg = ImageOps.expand(img, border=border, fill=color)\n",
    "        bimg = bimg.resize((IMG_SIZE, IMG_SIZE))\n",
    "    else:\n",
    "        raise runtimeerror('border is not an integer or tuple!')\n",
    "    return(bimg)\n"
   ]
  },
  {
   "cell_type": "code",
   "execution_count": null,
   "id": "81538821",
   "metadata": {},
   "outputs": [],
   "source": []
  },
  {
   "cell_type": "code",
   "execution_count": null,
   "id": "210bd6dd",
   "metadata": {},
   "outputs": [],
   "source": []
  },
  {
   "cell_type": "code",
   "execution_count": null,
   "id": "e81e1097",
   "metadata": {},
   "outputs": [],
   "source": []
  },
  {
   "cell_type": "code",
   "execution_count": null,
   "id": "5ce2a1b2",
   "metadata": {},
   "outputs": [],
   "source": []
  },
  {
   "cell_type": "code",
   "execution_count": null,
   "id": "be8a7f78",
   "metadata": {},
   "outputs": [],
   "source": []
  },
  {
   "cell_type": "code",
   "execution_count": null,
   "id": "efdb4d93",
   "metadata": {},
   "outputs": [],
   "source": []
  },
  {
   "cell_type": "code",
   "execution_count": 49,
   "id": "c5982a5d",
   "metadata": {},
   "outputs": [],
   "source": [
    "nb_epoch = 2\n",
    "nb_train_samples = 5000"
   ]
  },
  {
   "cell_type": "code",
   "execution_count": 50,
   "id": "94934d41",
   "metadata": {},
   "outputs": [
    {
     "name": "stdout",
     "output_type": "stream",
     "text": [
      "Epoch 1/2\n",
      "5000/5000 [==============================] - 880s 176ms/step - loss: 0.5361 - acc: 0.8464 - val_loss: 7.6819 - val_acc: 0.7442\n",
      "Epoch 2/2\n",
      "5000/5000 [==============================] - 942s 188ms/step - loss: 0.0665 - acc: 0.9778 - val_loss: 8.2671 - val_acc: 0.7617\n"
     ]
    },
    {
     "data": {
      "text/plain": [
       "<tensorflow.python.keras.callbacks.History at 0x1568271d4a8>"
      ]
     },
     "execution_count": 50,
     "metadata": {},
     "output_type": "execute_result"
    }
   ],
   "source": [
    "model.fit_generator(\n",
    "        train_dataset,\n",
    "        steps_per_epoch=nb_train_samples,\n",
    "        epochs=nb_epoch,\n",
    "        validation_data=validation_dataset)"
   ]
  },
  {
   "cell_type": "code",
   "execution_count": 51,
   "id": "6fc6c64f",
   "metadata": {},
   "outputs": [],
   "source": [
    "#model.save(\"model_78classes.h5\")"
   ]
  },
  {
   "cell_type": "code",
   "execution_count": 52,
   "id": "983e15cd",
   "metadata": {},
   "outputs": [],
   "source": [
    "\n",
    "dir_path = \"C:\" + os.sep + \"Users\" + os.sep + \"HOME\" + os.sep + \"Desktop\" + os.sep + \"ThaiChar\" + os.sep + \"basedata\" + os.sep + \"test\"\n",
    "def a(no):\n",
    "    i = os.listdir(dir_path)[no]\n",
    "    print(i)\n",
    "    img = image.load_img(dir_path + os.sep + i, target_size = (IMG_SIZE,IMG_SIZE))\n",
    "    plt.imshow(img)\n",
    "    plt.show()\n",
    "    \n",
    "    X = image.img_to_array(img)\n",
    "    X = np.expand_dims(X,axis = 0)\n",
    "    images = np.vstack([X])\n",
    "    \n",
    "    probb = model.predict(images)\n",
    "    print(probb)\n",
    "    val = np.argmax(model.predict(images))\n",
    "    ans = list(train_dataset.class_indices.keys())[val]\n",
    "    #ans1 = name_of_char[val]\n",
    "    ans1 = \"\"\n",
    "    print(ans,ans1,val,'\\n')\n",
    "    \n",
    "    \n",
    "    return(val)"
   ]
  },
  {
   "cell_type": "code",
   "execution_count": 53,
   "id": "7e61a922",
   "metadata": {},
   "outputs": [
    {
     "name": "stdout",
     "output_type": "stream",
     "text": [
      "001.bmp\n"
     ]
    },
    {
     "data": {
      "image/png": "[encoded data removed]",
      "text/plain": [
       "<Figure size 432x288 with 1 Axes>"
      ]
     },
     "metadata": {
      "needs_background": "light"
     },
     "output_type": "display_data"
    },
    {
     "name": "stdout",
     "output_type": "stream",
     "text": [
      "[[0. 0. 0. 0. 0. 0. 0. 0. 0. 0. 1. 0. 0. 0. 0. 0. 0. 0. 0. 0. 0. 0. 0. 0.\n",
      "  0. 0. 0. 0. 0. 0. 0. 0. 0. 0. 0. 0. 0. 0. 0. 0. 0. 0. 0. 0. 0. 0. 0. 0.\n",
      "  0. 0. 0. 0. 0. 0. 0. 0. 0. 0. 0. 0. 0. 0. 0. 0. 0. 0. 0. 0. 0. 0. 0. 0.\n",
      "  0. 0. 0. 0. 0. 0.]]\n",
      "ก  10 \n",
      "\n",
      "002.png\n"
     ]
    },
    {
     "data": {
      "image/png": "[encoded data removed]",
      "text/plain": [
       "<Figure size 432x288 with 1 Axes>"
      ]
     },
     "metadata": {
      "needs_background": "light"
     },
     "output_type": "display_data"
    },
    {
     "name": "stdout",
     "output_type": "stream",
     "text": [
      "[[0. 0. 0. 0. 0. 0. 0. 0. 0. 0. 0. 0. 0. 0. 0. 0. 0. 0. 0. 0. 0. 0. 0. 0.\n",
      "  0. 0. 0. 0. 0. 0. 0. 0. 0. 0. 0. 0. 0. 0. 0. 0. 0. 0. 0. 0. 0. 0. 0. 0.\n",
      "  0. 0. 0. 1. 0. 0. 0. 0. 0. 0. 0. 0. 0. 0. 0. 0. 0. 0. 0. 0. 0. 0. 0. 0.\n",
      "  0. 0. 0. 0. 0. 0.]]\n",
      "ห  51 \n",
      "\n",
      "003.png\n"
     ]
    },
    {
     "data": {
      "image/png": "[encoded data removed]",
      "text/plain": [
       "<Figure size 432x288 with 1 Axes>"
      ]
     },
     "metadata": {
      "needs_background": "light"
     },
     "output_type": "display_data"
    },
    {
     "name": "stdout",
     "output_type": "stream",
     "text": [
      "[[0. 0. 0. 0. 0. 0. 0. 0. 0. 0. 0. 0. 0. 0. 0. 0. 1. 0. 0. 0. 0. 0. 0. 0.\n",
      "  0. 0. 0. 0. 0. 0. 0. 0. 0. 0. 0. 0. 0. 0. 0. 0. 0. 0. 0. 0. 0. 0. 0. 0.\n",
      "  0. 0. 0. 0. 0. 0. 0. 0. 0. 0. 0. 0. 0. 0. 0. 0. 0. 0. 0. 0. 0. 0. 0. 0.\n",
      "  0. 0. 0. 0. 0. 0.]]\n",
      "ง  16 \n",
      "\n",
      "004.png\n"
     ]
    },
    {
     "data": {
      "image/png": "[encoded data removed]",
      "text/plain": [
       "<Figure size 432x288 with 1 Axes>"
      ]
     },
     "metadata": {
      "needs_background": "light"
     },
     "output_type": "display_data"
    },
    {
     "name": "stdout",
     "output_type": "stream",
     "text": [
      "[[0. 0. 0. 0. 0. 0. 0. 0. 0. 0. 0. 0. 0. 0. 0. 0. 0. 0. 0. 0. 0. 0. 0. 0.\n",
      "  0. 0. 0. 0. 0. 0. 0. 0. 0. 0. 0. 0. 0. 0. 0. 0. 0. 0. 0. 0. 0. 0. 0. 0.\n",
      "  0. 0. 1. 0. 0. 0. 0. 0. 0. 0. 0. 0. 0. 0. 0. 0. 0. 0. 0. 0. 0. 0. 0. 0.\n",
      "  0. 0. 0. 0. 0. 0.]]\n",
      "ส  50 \n",
      "\n",
      "005.png\n"
     ]
    },
    {
     "data": {
      "image/png": "[encoded data removed]",
      "text/plain": [
       "<Figure size 432x288 with 1 Axes>"
      ]
     },
     "metadata": {
      "needs_background": "light"
     },
     "output_type": "display_data"
    },
    {
     "name": "stdout",
     "output_type": "stream",
     "text": [
      "[[0. 0. 0. 0. 0. 0. 0. 0. 0. 0. 0. 0. 0. 0. 0. 0. 0. 0. 0. 0. 0. 0. 0. 0.\n",
      "  0. 0. 0. 0. 0. 0. 0. 0. 0. 0. 0. 0. 0. 0. 0. 0. 0. 0. 1. 0. 0. 0. 0. 0.\n",
      "  0. 0. 0. 0. 0. 0. 0. 0. 0. 0. 0. 0. 0. 0. 0. 0. 0. 0. 0. 0. 0. 0. 0. 0.\n",
      "  0. 0. 0. 0. 0. 0.]]\n",
      "ม  42 \n",
      "\n",
      "006.png\n"
     ]
    },
    {
     "data": {
      "image/png": "[encoded data removed]",
      "text/plain": [
       "<Figure size 432x288 with 1 Axes>"
      ]
     },
     "metadata": {
      "needs_background": "light"
     },
     "output_type": "display_data"
    },
    {
     "name": "stdout",
     "output_type": "stream",
     "text": [
      "[[0. 0. 0. 0. 0. 0. 0. 0. 0. 0. 0. 0. 0. 0. 0. 0. 0. 0. 0. 0. 0. 0. 0. 0.\n",
      "  0. 0. 0. 0. 0. 0. 0. 0. 0. 0. 0. 0. 0. 0. 0. 0. 0. 0. 0. 0. 0. 1. 0. 0.\n",
      "  0. 0. 0. 0. 0. 0. 0. 0. 0. 0. 0. 0. 0. 0. 0. 0. 0. 0. 0. 0. 0. 0. 0. 0.\n",
      "  0. 0. 0. 0. 0. 0.]]\n",
      "ฤ  45 \n",
      "\n",
      "007.png\n"
     ]
    },
    {
     "data": {
      "image/png": "[encoded data removed]",
      "text/plain": [
       "<Figure size 432x288 with 1 Axes>"
      ]
     },
     "metadata": {
      "needs_background": "light"
     },
     "output_type": "display_data"
    },
    {
     "name": "stdout",
     "output_type": "stream",
     "text": [
      "[[0. 0. 0. 0. 1. 0. 0. 0. 0. 0. 0. 0. 0. 0. 0. 0. 0. 0. 0. 0. 0. 0. 0. 0.\n",
      "  0. 0. 0. 0. 0. 0. 0. 0. 0. 0. 0. 0. 0. 0. 0. 0. 0. 0. 0. 0. 0. 0. 0. 0.\n",
      "  0. 0. 0. 0. 0. 0. 0. 0. 0. 0. 0. 0. 0. 0. 0. 0. 0. 0. 0. 0. 0. 0. 0. 0.\n",
      "  0. 0. 0. 0. 0. 0.]]\n",
      "4  4 \n",
      "\n",
      "char_10_set_1.bmp\n"
     ]
    },
    {
     "data": {
      "image/png": "[encoded data removed]",
      "text/plain": [
       "<Figure size 432x288 with 1 Axes>"
      ]
     },
     "metadata": {
      "needs_background": "light"
     },
     "output_type": "display_data"
    },
    {
     "name": "stdout",
     "output_type": "stream",
     "text": [
      "[[0. 0. 0. 0. 0. 0. 0. 0. 0. 0. 0. 0. 0. 0. 0. 0. 0. 0. 0. 1. 0. 0. 0. 0.\n",
      "  0. 0. 0. 0. 0. 0. 0. 0. 0. 0. 0. 0. 0. 0. 0. 0. 0. 0. 0. 0. 0. 0. 0. 0.\n",
      "  0. 0. 0. 0. 0. 0. 0. 0. 0. 0. 0. 0. 0. 0. 0. 0. 0. 0. 0. 0. 0. 0. 0. 0.\n",
      "  0. 0. 0. 0. 0. 0.]]\n",
      "ช  19 \n",
      "\n",
      "char_11_set_1.bmp\n"
     ]
    },
    {
     "data": {
      "image/png": "[encoded data removed]",
      "text/plain": [
       "<Figure size 432x288 with 1 Axes>"
      ]
     },
     "metadata": {
      "needs_background": "light"
     },
     "output_type": "display_data"
    },
    {
     "name": "stdout",
     "output_type": "stream",
     "text": [
      "[[0. 0. 0. 0. 0. 0. 0. 0. 0. 0. 0. 0. 0. 0. 0. 0. 0. 0. 0. 0. 1. 0. 0. 0.\n",
      "  0. 0. 0. 0. 0. 0. 0. 0. 0. 0. 0. 0. 0. 0. 0. 0. 0. 0. 0. 0. 0. 0. 0. 0.\n",
      "  0. 0. 0. 0. 0. 0. 0. 0. 0. 0. 0. 0. 0. 0. 0. 0. 0. 0. 0. 0. 0. 0. 0. 0.\n",
      "  0. 0. 0. 0. 0. 0.]]\n",
      "ซ  20 \n",
      "\n",
      "char_12_set_1.bmp\n"
     ]
    },
    {
     "data": {
      "image/png": "[encoded data removed]",
      "text/plain": [
       "<Figure size 432x288 with 1 Axes>"
      ]
     },
     "metadata": {
      "needs_background": "light"
     },
     "output_type": "display_data"
    },
    {
     "name": "stdout",
     "output_type": "stream",
     "text": [
      "[[0. 0. 0. 0. 0. 0. 0. 0. 0. 0. 0. 0. 0. 0. 0. 0. 0. 0. 0. 0. 0. 1. 0. 0.\n",
      "  0. 0. 0. 0. 0. 0. 0. 0. 0. 0. 0. 0. 0. 0. 0. 0. 0. 0. 0. 0. 0. 0. 0. 0.\n",
      "  0. 0. 0. 0. 0. 0. 0. 0. 0. 0. 0. 0. 0. 0. 0. 0. 0. 0. 0. 0. 0. 0. 0. 0.\n",
      "  0. 0. 0. 0. 0. 0.]]\n",
      "ฌ  21 \n",
      "\n"
     ]
    }
   ],
   "source": [
    "for i in range(0,10):\n",
    "    a(i)"
   ]
  },
  {
   "cell_type": "code",
   "execution_count": null,
   "id": "68b4cfcb",
   "metadata": {},
   "outputs": [],
   "source": []
  }
 ],
 "metadata": {
  "kernelspec": {
   "display_name": "Python 3",
   "language": "python",
   "name": "python3"
  },
  "language_info": {
   "codemirror_mode": {
    "name": "ipython",
    "version": 3
   },
   "file_extension": ".py",
   "mimetype": "text/x-python",
   "name": "python",
   "nbconvert_exporter": "python",
   "pygments_lexer": "ipython3",
   "version": "3.6.13"
  }
 },
 "nbformat": 4,
 "nbformat_minor": 5
}
